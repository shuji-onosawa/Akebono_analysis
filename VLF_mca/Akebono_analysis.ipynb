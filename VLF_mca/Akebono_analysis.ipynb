{
 "cells": [
  {
   "cell_type": "code",
   "execution_count": 9,
   "metadata": {},
   "outputs": [],
   "source": [
    "import pyspedas\n",
    "import pytplot\n",
    "from pytplot import options\n",
    "from pytplot import tplot\n",
    "from pytplot import tlimit\n",
    "from pytplot import tplot_options\n",
    "from load import mca, orb\n",
    "import numpy as np\n",
    "import Akebono_orb_load \n",
    "importer = Akebono_orb_load.Akebono_orb_load('19910711')"
   ]
  },
  {
   "cell_type": "code",
   "execution_count": 10,
   "metadata": {},
   "outputs": [
    {
     "name": "stdout",
     "output_type": "stream",
     "text": [
      "Time clip returns full data set.\n",
      "Time clip returns full data set.\n",
      "Time clip returns full data set.\n",
      "Time clip returns full data set.\n",
      "Time clip returns full data set.\n"
     ]
    }
   ],
   "source": [
    "trange = ['1991-07-11', '1991-07-13']\n",
    "mca(trange=trange)\n",
    "importer.orb()\n"
   ]
  },
  {
   "cell_type": "code",
   "execution_count": 11,
   "metadata": {},
   "outputs": [
    {
     "name": "stdout",
     "output_type": "stream",
     "text": [
      "0 : Emax\n",
      "1 : Eave\n",
      "2 : Bmax\n",
      "3 : Bave\n",
      "4 : PostGap\n",
      "5 : akb_orb_Pass\n",
      "6 : akb_orb_ILAT\n",
      "7 : akb_orb_MLT\n",
      "8 : akb_orb_ALT\n"
     ]
    },
    {
     "data": {
      "text/plain": [
       "['Emax',\n",
       " 'Eave',\n",
       " 'Bmax',\n",
       " 'Bave',\n",
       " 'PostGap',\n",
       " 'akb_orb_Pass',\n",
       " 'akb_orb_ILAT',\n",
       " 'akb_orb_MLT',\n",
       " 'akb_orb_ALT']"
      ]
     },
     "execution_count": 11,
     "metadata": {},
     "output_type": "execute_result"
    }
   ],
   "source": [
    "pytplot.tplot_names()"
   ]
  },
  {
   "cell_type": "code",
   "execution_count": 13,
   "metadata": {},
   "outputs": [
    {
     "data": {
      "text/plain": [
       "array([9.1071007e+09, 9.1071100e+09, 9.1071100e+09, ..., 9.1071107e+09,\n",
       "       9.1071107e+09, 9.1071107e+09])"
      ]
     },
     "execution_count": 13,
     "metadata": {},
     "output_type": "execute_result"
    }
   ],
   "source": [
    "Pass = pytplot.get_data('akb_orb_Pass')\n",
    "Pass.y"
   ]
  },
  {
   "cell_type": "code",
   "execution_count": 14,
   "metadata": {},
   "outputs": [
    {
     "name": "stdout",
     "output_type": "stream",
     "text": [
      "[[0 1 2]\n",
      " [3 4 5]\n",
      " [6 7 8]]\n"
     ]
    }
   ],
   "source": [
    "import numpy as np\n",
    "\n",
    "a = np.arange(9).reshape((3, 3))\n",
    "print(a)\n"
   ]
  },
  {
   "cell_type": "code",
   "execution_count": 16,
   "metadata": {},
   "outputs": [
    {
     "data": {
      "text/plain": [
       "(array([0, 0, 0, 1, 1]), array([0, 1, 2, 0, 1]))"
      ]
     },
     "execution_count": 16,
     "metadata": {},
     "output_type": "execute_result"
    }
   ],
   "source": [
    "np.where(a < 5)"
   ]
  },
  {
   "cell_type": "code",
   "execution_count": 17,
   "metadata": {},
   "outputs": [
    {
     "data": {
      "text/plain": [
       "[(0, 0), (0, 1), (0, 2), (1, 0)]"
      ]
     },
     "execution_count": 17,
     "metadata": {},
     "output_type": "execute_result"
    }
   ],
   "source": [
    "list(zip(*np.where(a < 4)))"
   ]
  },
  {
   "cell_type": "code",
   "execution_count": 21,
   "metadata": {},
   "outputs": [
    {
     "data": {
      "text/plain": [
       "(array([0, 1, 2, 3, 4]), array([0, 1, 2, 3, 4, 5, 6, 7, 8, 9]))"
      ]
     },
     "execution_count": 21,
     "metadata": {},
     "output_type": "execute_result"
    }
   ],
   "source": [
    "times = np.arange(10)\n",
    "data = np.arange(5)\n",
    "data, times"
   ]
  },
  {
   "cell_type": "code",
   "execution_count": 25,
   "metadata": {},
   "outputs": [
    {
     "name": "stdout",
     "output_type": "stream",
     "text": [
      "0 : Emax\n",
      "1 : Eave\n",
      "2 : Bmax\n",
      "3 : Bave\n",
      "4 : PostGap\n",
      "5 : akb_orb_Pass\n",
      "6 : akb_orb_ILAT\n",
      "7 : akb_orb_MLT\n",
      "8 : akb_orb_ALT\n",
      "9 : titnerpol_test\n",
      "10 : tinterpol_test1\n",
      "11 : tinterpol_test\n"
     ]
    },
    {
     "data": {
      "text/plain": [
       "['Emax',\n",
       " 'Eave',\n",
       " 'Bmax',\n",
       " 'Bave',\n",
       " 'PostGap',\n",
       " 'akb_orb_Pass',\n",
       " 'akb_orb_ILAT',\n",
       " 'akb_orb_MLT',\n",
       " 'akb_orb_ALT',\n",
       " 'titnerpol_test',\n",
       " 'tinterpol_test1',\n",
       " 'tinterpol_test']"
      ]
     },
     "execution_count": 25,
     "metadata": {},
     "output_type": "execute_result"
    }
   ],
   "source": [
    "pytplot.store_data('tinterpol_test', data = {'x': times, 'y': times})\n",
    "pytplot.store_data('tinterpol_test1', data = {'x': data, 'y': data})\n",
    "pytplot.tplot_names()"
   ]
  },
  {
   "cell_type": "code",
   "execution_count": 26,
   "metadata": {},
   "outputs": [
    {
     "name": "stdout",
     "output_type": "stream",
     "text": [
      "tinterpol (linear) was applied to: tinterpol_test1-itrp\n"
     ]
    }
   ],
   "source": [
    "pyspedas.tinterpol('tinterpol_test1', interp_to='tinterpol_test')"
   ]
  },
  {
   "cell_type": "code",
   "execution_count": null,
   "metadata": {},
   "outputs": [],
   "source": []
  }
 ],
 "metadata": {
  "kernelspec": {
   "display_name": "Python 3.8.10 64-bit",
   "language": "python",
   "name": "python3"
  },
  "language_info": {
   "codemirror_mode": {
    "name": "ipython",
    "version": 3
   },
   "file_extension": ".py",
   "mimetype": "text/x-python",
   "name": "python",
   "nbconvert_exporter": "python",
   "pygments_lexer": "ipython3",
   "version": "3.8.10"
  },
  "orig_nbformat": 4,
  "vscode": {
   "interpreter": {
    "hash": "916dbcbb3f70747c44a77c7bcd40155683ae19c65e1c03b4aa3499c5328201f1"
   }
  }
 },
 "nbformat": 4,
 "nbformat_minor": 2
}
