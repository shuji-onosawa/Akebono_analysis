{
 "cells": [
  {
   "cell_type": "markdown",
   "metadata": {},
   "source": [
    "xは自分で新しくtime_doubleの数列を作って入れます\\\n",
    "時間幅内に入る要素をwhereで取ってきてから緯度方向に1マスずつ値を探していく"
   ]
  },
  {
   "cell_type": "code",
   "execution_count": 97,
   "metadata": {},
   "outputs": [],
   "source": [
    "import pyspedas\n",
    "from pytplot import get_data, store_data, tplot_names, tplot\n",
    "from pyspedas import time_clip, time_double, time_string, tinterpol\n",
    "import numpy as np\n",
    "from load import mca, orb"
   ]
  },
  {
   "cell_type": "code",
   "execution_count": 98,
   "metadata": {},
   "outputs": [],
   "source": [
    "day = 31\n",
    "unit_time_width = 3600 #1h\n",
    "lat_array = np.arange(55, 90)\n",
    "\n",
    "matrix = []\n",
    "\n",
    "start_time = time_double('1990-01-20 00:00:00')\n",
    "end_time = start_time+day*24*unit_time_width\n",
    "times = np.arange(start_time, end_time + unit_time_width, unit_time_width, dtype=float)\n",
    "times_string = time_string(times, fmt = '%Y-%m-%d %H:%M:%S')"
   ]
  },
  {
   "cell_type": "code",
   "execution_count": 99,
   "metadata": {},
   "outputs": [],
   "source": [
    "days = np.arange(start_time, end_time + 24*unit_time_width, 24*unit_time_width, float)\n",
    "days_string = time_string(days, fmt= '%Y-%m-%d %H:%M:%S')"
   ]
  },
  {
   "cell_type": "code",
   "execution_count": 100,
   "metadata": {},
   "outputs": [],
   "source": [
    "trange = [days_string[0], days_string[1]]\n",
    "mca(trange)\n",
    "orb(trange)\n",
    "tplot_name = ['Emax', 'Eave', 'Bmax', 'Bave']\n",
    "for i in range(4):\n",
    "        tplot_variable = get_data(tplot_name[i])\n",
    "        tplot_variable_float = (tplot_variable.y).astype(float)\n",
    "        np.place(tplot_variable_float, tplot_variable_float == 254, np.nan)\n",
    "        tplot_variable_0dB = 1e-6 #mV or pT\n",
    "        bandwidth = tplot_variable.v * 0.3\n",
    "        tplot_variable_amplitude = (10**(tplot_variable_float/20)) * (tplot_variable_0dB)  / np.sqrt(bandwidth)\n",
    "        tplot_variable_power = (10**(tplot_variable_float/10)) * ((tplot_variable_0dB)**2)  / bandwidth\n",
    "        store_data(tplot_name[i] +'_Amp', data={'x': tplot_variable.times, 'y': tplot_variable_amplitude, 'v': tplot_variable.v})\n",
    "        store_data(tplot_name[i] +'_Pwr', data={'x': tplot_variable.times, 'y': tplot_variable_power, 'v': tplot_variable.v})\n"
   ]
  },
  {
   "cell_type": "code",
   "execution_count": 101,
   "metadata": {},
   "outputs": [
    {
     "name": "stdout",
     "output_type": "stream",
     "text": [
      "tinterpol (linear) was applied to: ILAT\n",
      "tinterpol (linear) was applied to: MLAT\n",
      "tinterpol (nearest) was applied to: MLT\n"
     ]
    }
   ],
   "source": [
    "tinterpol('akb_ILAT', interp_to='Emax', newname = 'ILAT')\n",
    "tinterpol('akb_MLAT', interp_to='Emax', newname = 'MLAT')\n",
    "tinterpol('akb_MLT', interp_to='Emax', newname = 'MLT', method = 'nearest')"
   ]
  },
  {
   "cell_type": "code",
   "execution_count": 118,
   "metadata": {},
   "outputs": [
    {
     "name": "stdout",
     "output_type": "stream",
     "text": [
      "Emax_Pwr copied to Emax_Pwr_cliped\n",
      "Time clip was applied to: Emax_Pwr_cliped\n",
      "ILAT copied to ILAT_cliped\n",
      "Time clip was applied to: ILAT_cliped\n",
      "MLT copied to MLT_cliped\n",
      "Time clip was applied to: MLT_cliped\n",
      "MLAT copied to MLAT_cliped\n",
      "Time clip was applied to: MLAT_cliped\n",
      "1990-01-20 04:00:00.000000\n"
     ]
    }
   ],
   "source": [
    "unit_time_width = 3600 #1h\n",
    "start_time = time_double(days_string[0])\n",
    "hours = time_string(np.arange(start_time, start_time + 25*unit_time_width, unit_time_width))\n",
    "i = 4\n",
    "time_clip('Emax_Pwr', time_start=hours[i], time_end=hours[i+1], new_names='Emax_Pwr_cliped')\n",
    "time_clip('ILAT', time_start=hours[i], time_end=hours[i+1], new_names='ILAT_cliped')\n",
    "time_clip('MLT', time_start=hours[i], time_end=hours[i+1], new_names='MLT_cliped')\n",
    "time_clip('MLAT', time_start=hours[i], time_end=hours[i+1], new_names='MLAT_cliped')\n",
    "print(hours[i])\n",
    "Emax_pwr = get_data('Emax_Pwr_cliped')\n",
    "Emax_pwr = Emax_pwr.y.T[0] #3.16Hz\n",
    "ILAT = get_data('ILAT_cliped')\n",
    "ILAT = ILAT.y\n",
    "MLAT = get_data('MLAT_cliped')\n",
    "MLAT = MLAT.y\n",
    "MLT_t = get_data('MLT_cliped')\n",
    "MLT = MLT_t.y\n",
    "Emax = get_data('Emax_Pwr_cliped')\n"
   ]
  },
  {
   "cell_type": "code",
   "execution_count": 139,
   "metadata": {},
   "outputs": [
    {
     "data": {
      "text/plain": [
       "(450, 16)"
      ]
     },
     "execution_count": 139,
     "metadata": {},
     "output_type": "execute_result"
    }
   ],
   "source": [
    "Emax.y.shape"
   ]
  },
  {
   "cell_type": "code",
   "execution_count": 120,
   "metadata": {},
   "outputs": [
    {
     "data": {
      "image/png": "[encoded data removed]",
      "text/plain": [
       "<Figure size 576x720 with 1 Axes>"
      ]
     },
     "metadata": {
      "needs_background": "light"
     },
     "output_type": "display_data"
    }
   ],
   "source": [
    "tplot('ILAT_cliped')"
   ]
  },
  {
   "cell_type": "markdown",
   "metadata": {},
   "source": [
    "UT 1990-01-20 04:00:00の配列を作ってみる"
   ]
  },
  {
   "cell_type": "code",
   "execution_count": 140,
   "metadata": {},
   "outputs": [
    {
     "name": "stdout",
     "output_type": "stream",
     "text": [
      "index 0 is out of bounds for axis 0 with size 0\n",
      "index 0 is out of bounds for axis 0 with size 0\n",
      "index 0 is out of bounds for axis 0 with size 0\n",
      "index 0 is out of bounds for axis 0 with size 0\n",
      "index 0 is out of bounds for axis 0 with size 0\n",
      "index 0 is out of bounds for axis 0 with size 0\n",
      "index 0 is out of bounds for axis 0 with size 0\n",
      "index 0 is out of bounds for axis 0 with size 0\n",
      "index 0 is out of bounds for axis 0 with size 0\n",
      "index 0 is out of bounds for axis 0 with size 0\n",
      "index 0 is out of bounds for axis 0 with size 0\n",
      "index 0 is out of bounds for axis 0 with size 0\n",
      "index 0 is out of bounds for axis 0 with size 0\n",
      "index 0 is out of bounds for axis 0 with size 0\n",
      "pwr: 0.02104706920268041\n",
      "pwr: 0.26496690263044753\n",
      "pwr: 0.26496690263044753\n",
      "pwr: 0.26496690263044753\n",
      "pwr: 0.26496690263044753\n",
      "pwr: 0.26496690263044753\n",
      "pwr: 0.26496690263044753\n",
      "pwr: 0.26496690263044753\n",
      "pwr: 0.26496690263044753\n",
      "pwr: 0.08378989168722743\n",
      "pwr: 0.08378989168722743\n",
      "pwr: 0.08378989168722743\n",
      "pwr: 0.04199442402065023\n",
      "pwr: 0.04199442402065023\n",
      "index 0 is out of bounds for axis 0 with size 0\n",
      "index 0 is out of bounds for axis 0 with size 0\n",
      "index 0 is out of bounds for axis 0 with size 0\n",
      "index 0 is out of bounds for axis 0 with size 0\n",
      "index 0 is out of bounds for axis 0 with size 0\n",
      "index 0 is out of bounds for axis 0 with size 0\n",
      "index 0 is out of bounds for axis 0 with size 0\n"
     ]
    },
    {
     "data": {
      "text/plain": [
       "35"
      ]
     },
     "execution_count": 140,
     "metadata": {},
     "output_type": "execute_result"
    }
   ],
   "source": [
    "lat_array = np.arange(55, 90)\n",
    "north_pwr_list_per_hour = []\n",
    "for lat in lat_array:\n",
    "    index_tuple = np.where((MLAT>0) & (ILAT<lat+1) & (ILAT>lat)) \n",
    "    index = index_tuple[0]\n",
    "    try:\n",
    "        ILAT_a = ILAT[index[0]]\n",
    "        ILAT_b = ILAT[index[-1]]\n",
    "        Emax_1deg = Emax_pwr[index[0]:index[-1]]\n",
    "        print('pwr:', np.nanmax(Emax_1deg))\n",
    "        north_pwr_list_per_hour.append(np.nanmean(Emax_1deg))\n",
    "    except Exception as e:\n",
    "        print(e)\n",
    "        north_pwr_list_per_hour.append(np.nan)\n",
    "len(north_pwr_list_per_hour)\n"
   ]
  },
  {
   "cell_type": "code",
   "execution_count": 141,
   "metadata": {},
   "outputs": [
    {
     "data": {
      "text/plain": [
       "35"
      ]
     },
     "execution_count": 141,
     "metadata": {},
     "output_type": "execute_result"
    }
   ],
   "source": [
    "lat_array = np.arange(55, 90)\n",
    "lat_array.size"
   ]
  },
  {
   "cell_type": "code",
   "execution_count": 144,
   "metadata": {},
   "outputs": [
    {
     "data": {
      "text/plain": [
       "[[1, 2, 3]]"
      ]
     },
     "execution_count": 144,
     "metadata": {},
     "output_type": "execute_result"
    }
   ],
   "source": [
    "c = []\n",
    "a = [1, 2, 3]\n",
    "b = [2, 3, 4]\n",
    "c.append(a)\n",
    "c"
   ]
  },
  {
   "cell_type": "code",
   "execution_count": 146,
   "metadata": {},
   "outputs": [
    {
     "data": {
      "text/plain": [
       "[[1, 2, 3], [2, 3, 4], [2, 3, 4]]"
      ]
     },
     "execution_count": 146,
     "metadata": {},
     "output_type": "execute_result"
    }
   ],
   "source": [
    "c.append(b)\n",
    "c"
   ]
  },
  {
   "cell_type": "markdown",
   "metadata": {},
   "source": [
    "一カ月丸っとやるにはこのエラーを何とかしなきゃない"
   ]
  },
  {
   "cell_type": "code",
   "execution_count": 53,
   "metadata": {},
   "outputs": [
    {
     "name": "stdout",
     "output_type": "stream",
     "text": [
      "tinterpol (linear) was applied to: ILAT\n",
      "tinterpol (linear) was applied to: MLAT\n",
      "tinterpol (nearest) was applied to: MLT\n"
     ]
    }
   ],
   "source": [
    "import load\n",
    "load.mca(['1990-01-10', '1990-02-20'])\n",
    "load.orb(['1990-01-10', '1990-02-20'])\n",
    "tinterpol('akb_ILAT', interp_to='Emax', newname = 'ILAT')\n",
    "tinterpol('akb_MLAT', interp_to='Emax', newname = 'MLAT')\n",
    "tinterpol('akb_MLT', interp_to='Emax', newname = 'MLT', method = 'nearest')"
   ]
  },
  {
   "cell_type": "code",
   "execution_count": 38,
   "metadata": {},
   "outputs": [
    {
     "data": {
      "text/plain": [
       "['Emax',\n",
       " 'Eave',\n",
       " 'Bmax',\n",
       " 'Bave',\n",
       " 'PostGap',\n",
       " 'akb_Pass',\n",
       " 'akb_ILAT',\n",
       " 'akb_MLAT',\n",
       " 'akb_MLT',\n",
       " 'akb_ALT',\n",
       " 'akb_Bmdl_X',\n",
       " 'akb_Bmdl_Y',\n",
       " 'akb_Bmdl_Z',\n",
       " 'ILAT',\n",
       " 'MLAT',\n",
       " 'MLT']"
      ]
     },
     "execution_count": 38,
     "metadata": {},
     "output_type": "execute_result"
    }
   ],
   "source": [
    "tplot_names(True)"
   ]
  },
  {
   "cell_type": "code",
   "execution_count": 45,
   "metadata": {},
   "outputs": [],
   "source": [
    "E = get_data('Emax', xarray = True)\n",
    "ILAT = get_data('akb_ILAT', xarray=True)"
   ]
  },
  {
   "cell_type": "code",
   "execution_count": 49,
   "metadata": {},
   "outputs": [
    {
     "name": "stdout",
     "output_type": "stream",
     "text": [
      "<xarray.DataArray 'Emax' (time: 86400, v_dim: 16)>\n",
      "array([[254, 254, 254, ..., 254, 254, 254],\n",
      "       [254, 254, 254, ..., 254, 254, 254],\n",
      "       [254, 254, 254, ..., 254, 254, 254],\n",
      "       ...,\n",
      "       [254, 254, 254, ..., 254, 254, 254],\n",
      "       [254, 254, 254, ..., 254, 254, 254],\n",
      "       [  0,   0,   0, ...,   0,   0,   0]], dtype=uint8)\n",
      "Coordinates:\n",
      "  * time       (time) float64 6.319e+08 6.319e+08 ... 6.326e+08 6.326e+08\n",
      "    spec_bins  (v_dim) float32 3.16 5.62 10.0 17.8 ... 5.62e+03 1e+04 1.78e+04\n",
      "    v          (v_dim) float32 3.16 5.62 10.0 17.8 ... 5.62e+03 1e+04 1.78e+04\n",
      "Dimensions without coordinates: v_dim\n",
      "Attributes:\n",
      "    CDF:           {'VATT': {'AVG_TYPE': 'log', 'CATDESC': 'Electric field ma...\n",
      "    plot_options:  {'xaxis_opt': {'axis_label': 'Time', 'crosshair': 'X', 'x_...\n",
      "------\n"
     ]
    },
    {
     "data": {
      "text/html": [
       "<div><svg style=\"position: absolute; width: 0; height: 0; overflow: hidden\">\n",
       "<defs>\n",
       "<symbol id=\"icon-database\" viewBox=\"0 0 32 32\">\n",
       "<path d=\"M16 0c-8.837 0-16 2.239-16 5v4c0 2.761 7.163 5 16 5s16-2.239 16-5v-4c0-2.761-7.163-5-16-5z\"></path>\n",
       "<path d=\"M16 17c-8.837 0-16-2.239-16-5v6c0 2.761 7.163 5 16 5s16-2.239 16-5v-6c0 2.761-7.163 5-16 5z\"></path>\n",
       "<path d=\"M16 26c-8.837 0-16-2.239-16-5v6c0 2.761 7.163 5 16 5s16-2.239 16-5v-6c0 2.761-7.163 5-16 5z\"></path>\n",
       "</symbol>\n",
       "<symbol id=\"icon-file-text2\" viewBox=\"0 0 32 32\">\n",
       "<path d=\"M28.681 7.159c-0.694-0.947-1.662-2.053-2.724-3.116s-2.169-2.030-3.116-2.724c-1.612-1.182-2.393-1.319-2.841-1.319h-15.5c-1.378 0-2.5 1.121-2.5 2.5v27c0 1.378 1.122 2.5 2.5 2.5h23c1.378 0 2.5-1.122 2.5-2.5v-19.5c0-0.448-0.137-1.23-1.319-2.841zM24.543 5.457c0.959 0.959 1.712 1.825 2.268 2.543h-4.811v-4.811c0.718 0.556 1.584 1.309 2.543 2.268zM28 29.5c0 0.271-0.229 0.5-0.5 0.5h-23c-0.271 0-0.5-0.229-0.5-0.5v-27c0-0.271 0.229-0.5 0.5-0.5 0 0 15.499-0 15.5 0v7c0 0.552 0.448 1 1 1h7v19.5z\"></path>\n",
       "<path d=\"M23 26h-14c-0.552 0-1-0.448-1-1s0.448-1 1-1h14c0.552 0 1 0.448 1 1s-0.448 1-1 1z\"></path>\n",
       "<path d=\"M23 22h-14c-0.552 0-1-0.448-1-1s0.448-1 1-1h14c0.552 0 1 0.448 1 1s-0.448 1-1 1z\"></path>\n",
       "<path d=\"M23 18h-14c-0.552 0-1-0.448-1-1s0.448-1 1-1h14c0.552 0 1 0.448 1 1s-0.448 1-1 1z\"></path>\n",
       "</symbol>\n",
       "</defs>\n",
       "</svg>\n",
       "<style>/* CSS stylesheet for displaying xarray objects in jupyterlab.\n",
       " *\n",
       " */\n",
       "\n",
       ":root {\n",
       "  --xr-font-color0: var(--jp-content-font-color0, rgba(0, 0, 0, 1));\n",
       "  --xr-font-color2: var(--jp-content-font-color2, rgba(0, 0, 0, 0.54));\n",
       "  --xr-font-color3: var(--jp-content-font-color3, rgba(0, 0, 0, 0.38));\n",
       "  --xr-border-color: var(--jp-border-color2, #e0e0e0);\n",
       "  --xr-disabled-color: var(--jp-layout-color3, #bdbdbd);\n",
       "  --xr-background-color: var(--jp-layout-color0, white);\n",
       "  --xr-background-color-row-even: var(--jp-layout-color1, white);\n",
       "  --xr-background-color-row-odd: var(--jp-layout-color2, #eeeeee);\n",
       "}\n",
       "\n",
       "html[theme=dark],\n",
       "body.vscode-dark {\n",
       "  --xr-font-color0: rgba(255, 255, 255, 1);\n",
       "  --xr-font-color2: rgba(255, 255, 255, 0.54);\n",
       "  --xr-font-color3: rgba(255, 255, 255, 0.38);\n",
       "  --xr-border-color: #1F1F1F;\n",
       "  --xr-disabled-color: #515151;\n",
       "  --xr-background-color: #111111;\n",
       "  --xr-background-color-row-even: #111111;\n",
       "  --xr-background-color-row-odd: #313131;\n",
       "}\n",
       "\n",
       ".xr-wrap {\n",
       "  display: block !important;\n",
       "  min-width: 300px;\n",
       "  max-width: 700px;\n",
       "}\n",
       "\n",
       ".xr-text-repr-fallback {\n",
       "  /* fallback to plain text repr when CSS is not injected (untrusted notebook) */\n",
       "  display: none;\n",
       "}\n",
       "\n",
       ".xr-header {\n",
       "  padding-top: 6px;\n",
       "  padding-bottom: 6px;\n",
       "  margin-bottom: 4px;\n",
       "  border-bottom: solid 1px var(--xr-border-color);\n",
       "}\n",
       "\n",
       ".xr-header > div,\n",
       ".xr-header > ul {\n",
       "  display: inline;\n",
       "  margin-top: 0;\n",
       "  margin-bottom: 0;\n",
       "}\n",
       "\n",
       ".xr-obj-type,\n",
       ".xr-array-name {\n",
       "  margin-left: 2px;\n",
       "  margin-right: 10px;\n",
       "}\n",
       "\n",
       ".xr-obj-type {\n",
       "  color: var(--xr-font-color2);\n",
       "}\n",
       "\n",
       ".xr-sections {\n",
       "  padding-left: 0 !important;\n",
       "  display: grid;\n",
       "  grid-template-columns: 150px auto auto 1fr 20px 20px;\n",
       "}\n",
       "\n",
       ".xr-section-item {\n",
       "  display: contents;\n",
       "}\n",
       "\n",
       ".xr-section-item input {\n",
       "  display: none;\n",
       "}\n",
       "\n",
       ".xr-section-item input + label {\n",
       "  color: var(--xr-disabled-color);\n",
       "}\n",
       "\n",
       ".xr-section-item input:enabled + label {\n",
       "  cursor: pointer;\n",
       "  color: var(--xr-font-color2);\n",
       "}\n",
       "\n",
       ".xr-section-item input:enabled + label:hover {\n",
       "  color: var(--xr-font-color0);\n",
       "}\n",
       "\n",
       ".xr-section-summary {\n",
       "  grid-column: 1;\n",
       "  color: var(--xr-font-color2);\n",
       "  font-weight: 500;\n",
       "}\n",
       "\n",
       ".xr-section-summary > span {\n",
       "  display: inline-block;\n",
       "  padding-left: 0.5em;\n",
       "}\n",
       "\n",
       ".xr-section-summary-in:disabled + label {\n",
       "  color: var(--xr-font-color2);\n",
       "}\n",
       "\n",
       ".xr-section-summary-in + label:before {\n",
       "  display: inline-block;\n",
       "  content: '►';\n",
       "  font-size: 11px;\n",
       "  width: 15px;\n",
       "  text-align: center;\n",
       "}\n",
       "\n",
       ".xr-section-summary-in:disabled + label:before {\n",
       "  color: var(--xr-disabled-color);\n",
       "}\n",
       "\n",
       ".xr-section-summary-in:checked + label:before {\n",
       "  content: '▼';\n",
       "}\n",
       "\n",
       ".xr-section-summary-in:checked + label > span {\n",
       "  display: none;\n",
       "}\n",
       "\n",
       ".xr-section-summary,\n",
       ".xr-section-inline-details {\n",
       "  padding-top: 4px;\n",
       "  padding-bottom: 4px;\n",
       "}\n",
       "\n",
       ".xr-section-inline-details {\n",
       "  grid-column: 2 / -1;\n",
       "}\n",
       "\n",
       ".xr-section-details {\n",
       "  display: none;\n",
       "  grid-column: 1 / -1;\n",
       "  margin-bottom: 5px;\n",
       "}\n",
       "\n",
       ".xr-section-summary-in:checked ~ .xr-section-details {\n",
       "  display: contents;\n",
       "}\n",
       "\n",
       ".xr-array-wrap {\n",
       "  grid-column: 1 / -1;\n",
       "  display: grid;\n",
       "  grid-template-columns: 20px auto;\n",
       "}\n",
       "\n",
       ".xr-array-wrap > label {\n",
       "  grid-column: 1;\n",
       "  vertical-align: top;\n",
       "}\n",
       "\n",
       ".xr-preview {\n",
       "  color: var(--xr-font-color3);\n",
       "}\n",
       "\n",
       ".xr-array-preview,\n",
       ".xr-array-data {\n",
       "  padding: 0 5px !important;\n",
       "  grid-column: 2;\n",
       "}\n",
       "\n",
       ".xr-array-data,\n",
       ".xr-array-in:checked ~ .xr-array-preview {\n",
       "  display: none;\n",
       "}\n",
       "\n",
       ".xr-array-in:checked ~ .xr-array-data,\n",
       ".xr-array-preview {\n",
       "  display: inline-block;\n",
       "}\n",
       "\n",
       ".xr-dim-list {\n",
       "  display: inline-block !important;\n",
       "  list-style: none;\n",
       "  padding: 0 !important;\n",
       "  margin: 0;\n",
       "}\n",
       "\n",
       ".xr-dim-list li {\n",
       "  display: inline-block;\n",
       "  padding: 0;\n",
       "  margin: 0;\n",
       "}\n",
       "\n",
       ".xr-dim-list:before {\n",
       "  content: '(';\n",
       "}\n",
       "\n",
       ".xr-dim-list:after {\n",
       "  content: ')';\n",
       "}\n",
       "\n",
       ".xr-dim-list li:not(:last-child):after {\n",
       "  content: ',';\n",
       "  padding-right: 5px;\n",
       "}\n",
       "\n",
       ".xr-has-index {\n",
       "  font-weight: bold;\n",
       "}\n",
       "\n",
       ".xr-var-list,\n",
       ".xr-var-item {\n",
       "  display: contents;\n",
       "}\n",
       "\n",
       ".xr-var-item > div,\n",
       ".xr-var-item label,\n",
       ".xr-var-item > .xr-var-name span {\n",
       "  background-color: var(--xr-background-color-row-even);\n",
       "  margin-bottom: 0;\n",
       "}\n",
       "\n",
       ".xr-var-item > .xr-var-name:hover span {\n",
       "  padding-right: 5px;\n",
       "}\n",
       "\n",
       ".xr-var-list > li:nth-child(odd) > div,\n",
       ".xr-var-list > li:nth-child(odd) > label,\n",
       ".xr-var-list > li:nth-child(odd) > .xr-var-name span {\n",
       "  background-color: var(--xr-background-color-row-odd);\n",
       "}\n",
       "\n",
       ".xr-var-name {\n",
       "  grid-column: 1;\n",
       "}\n",
       "\n",
       ".xr-var-dims {\n",
       "  grid-column: 2;\n",
       "}\n",
       "\n",
       ".xr-var-dtype {\n",
       "  grid-column: 3;\n",
       "  text-align: right;\n",
       "  color: var(--xr-font-color2);\n",
       "}\n",
       "\n",
       ".xr-var-preview {\n",
       "  grid-column: 4;\n",
       "}\n",
       "\n",
       ".xr-var-name,\n",
       ".xr-var-dims,\n",
       ".xr-var-dtype,\n",
       ".xr-preview,\n",
       ".xr-attrs dt {\n",
       "  white-space: nowrap;\n",
       "  overflow: hidden;\n",
       "  text-overflow: ellipsis;\n",
       "  padding-right: 10px;\n",
       "}\n",
       "\n",
       ".xr-var-name:hover,\n",
       ".xr-var-dims:hover,\n",
       ".xr-var-dtype:hover,\n",
       ".xr-attrs dt:hover {\n",
       "  overflow: visible;\n",
       "  width: auto;\n",
       "  z-index: 1;\n",
       "}\n",
       "\n",
       ".xr-var-attrs,\n",
       ".xr-var-data {\n",
       "  display: none;\n",
       "  background-color: var(--xr-background-color) !important;\n",
       "  padding-bottom: 5px !important;\n",
       "}\n",
       "\n",
       ".xr-var-attrs-in:checked ~ .xr-var-attrs,\n",
       ".xr-var-data-in:checked ~ .xr-var-data {\n",
       "  display: block;\n",
       "}\n",
       "\n",
       ".xr-var-data > table {\n",
       "  float: right;\n",
       "}\n",
       "\n",
       ".xr-var-name span,\n",
       ".xr-var-data,\n",
       ".xr-attrs {\n",
       "  padding-left: 25px !important;\n",
       "}\n",
       "\n",
       ".xr-attrs,\n",
       ".xr-var-attrs,\n",
       ".xr-var-data {\n",
       "  grid-column: 1 / -1;\n",
       "}\n",
       "\n",
       "dl.xr-attrs {\n",
       "  padding: 0;\n",
       "  margin: 0;\n",
       "  display: grid;\n",
       "  grid-template-columns: 125px auto;\n",
       "}\n",
       "\n",
       ".xr-attrs dt,\n",
       ".xr-attrs dd {\n",
       "  padding: 0;\n",
       "  margin: 0;\n",
       "  float: left;\n",
       "  padding-right: 10px;\n",
       "  width: auto;\n",
       "}\n",
       "\n",
       ".xr-attrs dt {\n",
       "  font-weight: normal;\n",
       "  grid-column: 1;\n",
       "}\n",
       "\n",
       ".xr-attrs dt:hover span {\n",
       "  display: inline-block;\n",
       "  background: var(--xr-background-color);\n",
       "  padding-right: 10px;\n",
       "}\n",
       "\n",
       ".xr-attrs dd {\n",
       "  grid-column: 2;\n",
       "  white-space: pre-wrap;\n",
       "  word-break: break-all;\n",
       "}\n",
       "\n",
       ".xr-icon-database,\n",
       ".xr-icon-file-text2 {\n",
       "  display: inline-block;\n",
       "  vertical-align: middle;\n",
       "  width: 1em;\n",
       "  height: 1.5em !important;\n",
       "  stroke-width: 0;\n",
       "  stroke: currentColor;\n",
       "  fill: currentColor;\n",
       "}\n",
       "</style><pre class='xr-text-repr-fallback'>&lt;xarray.DataArray &#x27;akb_ILAT&#x27; (time: 23041)&gt;\n",
       "array([47.06, 47.03, 47.01, ..., 83.35, 81.66, 79.83])\n",
       "Coordinates:\n",
       "  * time     (time) float64 6.319e+08 6.319e+08 ... 6.326e+08 6.326e+08\n",
       "Attributes:\n",
       "    plot_options:  {&#x27;xaxis_opt&#x27;: {&#x27;axis_label&#x27;: &#x27;Time&#x27;, &#x27;crosshair&#x27;: &#x27;X&#x27;, &#x27;x_...</pre><div class='xr-wrap' style='display:none'><div class='xr-header'><div class='xr-obj-type'>xarray.DataArray</div><div class='xr-array-name'>'akb_ILAT'</div><ul class='xr-dim-list'><li><span class='xr-has-index'>time</span>: 23041</li></ul></div><ul class='xr-sections'><li class='xr-section-item'><div class='xr-array-wrap'><input id='section-884aa339-1e0e-415d-86fa-969b85a94439' class='xr-array-in' type='checkbox' checked><label for='section-884aa339-1e0e-415d-86fa-969b85a94439' title='Show/hide data repr'><svg class='icon xr-icon-database'><use xlink:href='#icon-database'></use></svg></label><div class='xr-array-preview xr-preview'><span>47.06 47.03 47.01 46.99 46.98 46.97 ... 85.91 84.83 83.35 81.66 79.83</span></div><div class='xr-array-data'><pre>array([47.06, 47.03, 47.01, ..., 83.35, 81.66, 79.83])</pre></div></div></li><li class='xr-section-item'><input id='section-0d2bb95d-6788-48c5-9c81-16c7fc1ce198' class='xr-section-summary-in' type='checkbox'  checked><label for='section-0d2bb95d-6788-48c5-9c81-16c7fc1ce198' class='xr-section-summary' >Coordinates: <span>(1)</span></label><div class='xr-section-inline-details'></div><div class='xr-section-details'><ul class='xr-var-list'><li class='xr-var-item'><div class='xr-var-name'><span class='xr-has-index'>time</span></div><div class='xr-var-dims'>(time)</div><div class='xr-var-dtype'>float64</div><div class='xr-var-preview xr-preview'>6.319e+08 6.319e+08 ... 6.326e+08</div><input id='attrs-a1a173dd-9c43-4fdf-b94e-831a57e96a54' class='xr-var-attrs-in' type='checkbox' disabled><label for='attrs-a1a173dd-9c43-4fdf-b94e-831a57e96a54' title='Show/Hide attributes'><svg class='icon xr-icon-file-text2'><use xlink:href='#icon-file-text2'></use></svg></label><input id='data-bc8cb537-dba0-495c-9fd2-8cc1b12c881f' class='xr-var-data-in' type='checkbox'><label for='data-bc8cb537-dba0-495c-9fd2-8cc1b12c881f' title='Show/Hide data repr'><svg class='icon xr-icon-database'><use xlink:href='#icon-database'></use></svg></label><div class='xr-var-attrs'><dl class='xr-attrs'></dl></div><div class='xr-var-data'><pre>array([6.319296e+08, 6.319296e+08, 6.319297e+08, ..., 6.326207e+08,\n",
       "       6.326207e+08, 6.326208e+08])</pre></div></li></ul></div></li><li class='xr-section-item'><input id='section-74a1401f-335d-4323-96a5-5b126884bcc6' class='xr-section-summary-in' type='checkbox'  checked><label for='section-74a1401f-335d-4323-96a5-5b126884bcc6' class='xr-section-summary' >Attributes: <span>(1)</span></label><div class='xr-section-inline-details'></div><div class='xr-section-details'><dl class='xr-attrs'><dt><span>plot_options :</span></dt><dd>{&#x27;xaxis_opt&#x27;: {&#x27;axis_label&#x27;: &#x27;Time&#x27;, &#x27;crosshair&#x27;: &#x27;X&#x27;, &#x27;x_axis_type&#x27;: &#x27;linear&#x27;}, &#x27;yaxis_opt&#x27;: {&#x27;axis_label&#x27;: &#x27;akb_ILAT&#x27;, &#x27;crosshair&#x27;: &#x27;Y&#x27;, &#x27;y_axis_type&#x27;: &#x27;linear&#x27;, &#x27;y_range&#x27;: [15.21, 86.89]}, &#x27;zaxis_opt&#x27;: {&#x27;axis_label&#x27;: &#x27;Z-Axis&#x27;, &#x27;crosshair&#x27;: &#x27;Z&#x27;, &#x27;z_axis_type&#x27;: &#x27;linear&#x27;}, &#x27;line_opt&#x27;: {}, &#x27;trange&#x27;: [631929600.0, 632620770.0], &#x27;time_bar&#x27;: [], &#x27;extras&#x27;: {&#x27;panel_size&#x27;: 1, &#x27;char_size&#x27;: 10, &#x27;border&#x27;: True}, &#x27;create_time&#x27;: datetime.datetime(2022, 7, 20, 1, 2, 12, 369592), &#x27;links&#x27;: {}, &#x27;spec_bins_ascending&#x27;: None, &#x27;overplots&#x27;: [], &#x27;interactive_xaxis_opt&#x27;: {}, &#x27;interactive_yaxis_opt&#x27;: {}, &#x27;error&#x27;: None}</dd></dl></div></li></ul></div></div>"
      ],
      "text/plain": [
       "<xarray.DataArray 'akb_ILAT' (time: 23041)>\n",
       "array([47.06, 47.03, 47.01, ..., 83.35, 81.66, 79.83])\n",
       "Coordinates:\n",
       "  * time     (time) float64 6.319e+08 6.319e+08 ... 6.326e+08 6.326e+08\n",
       "Attributes:\n",
       "    plot_options:  {'xaxis_opt': {'axis_label': 'Time', 'crosshair': 'X', 'x_..."
      ]
     },
     "execution_count": 49,
     "metadata": {},
     "output_type": "execute_result"
    }
   ],
   "source": [
    "print(E)\n",
    "print('------')\n",
    "ILAT"
   ]
  },
  {
   "cell_type": "code",
   "execution_count": 48,
   "metadata": {},
   "outputs": [
    {
     "ename": "InvalidIndexError",
     "evalue": "Reindexing only valid with uniquely valued Index objects",
     "output_type": "error",
     "traceback": [
      "\u001b[0;31m---------------------------------------------------------------------------\u001b[0m",
      "\u001b[0;31mInvalidIndexError\u001b[0m                         Traceback (most recent call last)",
      "\u001b[0;32m<ipython-input-48-72a1e7bbf291>\u001b[0m in \u001b[0;36m<module>\u001b[0;34m\u001b[0m\n\u001b[0;32m----> 1\u001b[0;31m \u001b[0mILAT\u001b[0m\u001b[0;34m.\u001b[0m\u001b[0minterp\u001b[0m\u001b[0;34m(\u001b[0m\u001b[0;34m{\u001b[0m\u001b[0;34m'time'\u001b[0m\u001b[0;34m:\u001b[0m \u001b[0mE\u001b[0m\u001b[0;34m[\u001b[0m\u001b[0;36m0\u001b[0m\u001b[0;34m]\u001b[0m\u001b[0;34m}\u001b[0m\u001b[0;34m,\u001b[0m \u001b[0mmethod\u001b[0m \u001b[0;34m=\u001b[0m \u001b[0;34m'linear'\u001b[0m\u001b[0;34m)\u001b[0m\u001b[0;34m\u001b[0m\u001b[0;34m\u001b[0m\u001b[0m\n\u001b[0m",
      "\u001b[0;32m/usr/local/lib/python3.8/dist-packages/xarray/core/dataarray.py\u001b[0m in \u001b[0;36minterp\u001b[0;34m(self, coords, method, assume_sorted, kwargs, **coords_kwargs)\u001b[0m\n\u001b[1;32m   1745\u001b[0m                 \u001b[0;34m\"Given {}.\"\u001b[0m\u001b[0;34m.\u001b[0m\u001b[0mformat\u001b[0m\u001b[0;34m(\u001b[0m\u001b[0mself\u001b[0m\u001b[0;34m.\u001b[0m\u001b[0mdtype\u001b[0m\u001b[0;34m)\u001b[0m\u001b[0;34m\u001b[0m\u001b[0;34m\u001b[0m\u001b[0m\n\u001b[1;32m   1746\u001b[0m             )\n\u001b[0;32m-> 1747\u001b[0;31m         ds = self._to_temp_dataset().interp(\n\u001b[0m\u001b[1;32m   1748\u001b[0m             \u001b[0mcoords\u001b[0m\u001b[0;34m,\u001b[0m\u001b[0;34m\u001b[0m\u001b[0;34m\u001b[0m\u001b[0m\n\u001b[1;32m   1749\u001b[0m             \u001b[0mmethod\u001b[0m\u001b[0;34m=\u001b[0m\u001b[0mmethod\u001b[0m\u001b[0;34m,\u001b[0m\u001b[0;34m\u001b[0m\u001b[0;34m\u001b[0m\u001b[0m\n",
      "\u001b[0;32m/usr/local/lib/python3.8/dist-packages/xarray/core/dataset.py\u001b[0m in \u001b[0;36minterp\u001b[0;34m(self, coords, method, assume_sorted, kwargs, method_non_numeric, **coords_kwargs)\u001b[0m\n\u001b[1;32m   3168\u001b[0m         \u001b[0;32mif\u001b[0m \u001b[0mmethod\u001b[0m \u001b[0;32min\u001b[0m \u001b[0;34m[\u001b[0m\u001b[0;34m\"linear\"\u001b[0m\u001b[0;34m,\u001b[0m \u001b[0;34m\"nearest\"\u001b[0m\u001b[0;34m]\u001b[0m\u001b[0;34m:\u001b[0m\u001b[0;34m\u001b[0m\u001b[0;34m\u001b[0m\u001b[0m\n\u001b[1;32m   3169\u001b[0m             \u001b[0;32mfor\u001b[0m \u001b[0mk\u001b[0m\u001b[0;34m,\u001b[0m \u001b[0mv\u001b[0m \u001b[0;32min\u001b[0m \u001b[0mvalidated_indexers\u001b[0m\u001b[0;34m.\u001b[0m\u001b[0mitems\u001b[0m\u001b[0;34m(\u001b[0m\u001b[0;34m)\u001b[0m\u001b[0;34m:\u001b[0m\u001b[0;34m\u001b[0m\u001b[0;34m\u001b[0m\u001b[0m\n\u001b[0;32m-> 3170\u001b[0;31m                 \u001b[0mobj\u001b[0m\u001b[0;34m,\u001b[0m \u001b[0mnewidx\u001b[0m \u001b[0;34m=\u001b[0m \u001b[0mmissing\u001b[0m\u001b[0;34m.\u001b[0m\u001b[0m_localize\u001b[0m\u001b[0;34m(\u001b[0m\u001b[0mobj\u001b[0m\u001b[0;34m,\u001b[0m \u001b[0;34m{\u001b[0m\u001b[0mk\u001b[0m\u001b[0;34m:\u001b[0m \u001b[0mv\u001b[0m\u001b[0;34m}\u001b[0m\u001b[0;34m)\u001b[0m\u001b[0;34m\u001b[0m\u001b[0;34m\u001b[0m\u001b[0m\n\u001b[0m\u001b[1;32m   3171\u001b[0m                 \u001b[0mvalidated_indexers\u001b[0m\u001b[0;34m[\u001b[0m\u001b[0mk\u001b[0m\u001b[0;34m]\u001b[0m \u001b[0;34m=\u001b[0m \u001b[0mnewidx\u001b[0m\u001b[0;34m[\u001b[0m\u001b[0mk\u001b[0m\u001b[0;34m]\u001b[0m\u001b[0;34m\u001b[0m\u001b[0;34m\u001b[0m\u001b[0m\n\u001b[1;32m   3172\u001b[0m \u001b[0;34m\u001b[0m\u001b[0m\n",
      "\u001b[0;32m/usr/local/lib/python3.8/dist-packages/xarray/core/missing.py\u001b[0m in \u001b[0;36m_localize\u001b[0;34m(var, indexes_coords)\u001b[0m\n\u001b[1;32m    565\u001b[0m         \u001b[0mmaxval\u001b[0m \u001b[0;34m=\u001b[0m \u001b[0mnp\u001b[0m\u001b[0;34m.\u001b[0m\u001b[0mnanmax\u001b[0m\u001b[0;34m(\u001b[0m\u001b[0mnew_x\u001b[0m\u001b[0;34m.\u001b[0m\u001b[0mvalues\u001b[0m\u001b[0;34m)\u001b[0m\u001b[0;34m\u001b[0m\u001b[0;34m\u001b[0m\u001b[0m\n\u001b[1;32m    566\u001b[0m         \u001b[0mindex\u001b[0m \u001b[0;34m=\u001b[0m \u001b[0mx\u001b[0m\u001b[0;34m.\u001b[0m\u001b[0mto_index\u001b[0m\u001b[0;34m(\u001b[0m\u001b[0;34m)\u001b[0m\u001b[0;34m\u001b[0m\u001b[0;34m\u001b[0m\u001b[0m\n\u001b[0;32m--> 567\u001b[0;31m         \u001b[0mimin\u001b[0m \u001b[0;34m=\u001b[0m \u001b[0mindex\u001b[0m\u001b[0;34m.\u001b[0m\u001b[0mget_indexer\u001b[0m\u001b[0;34m(\u001b[0m\u001b[0;34m[\u001b[0m\u001b[0mminval\u001b[0m\u001b[0;34m]\u001b[0m\u001b[0;34m,\u001b[0m \u001b[0mmethod\u001b[0m\u001b[0;34m=\u001b[0m\u001b[0;34m\"nearest\"\u001b[0m\u001b[0;34m)\u001b[0m\u001b[0;34m.\u001b[0m\u001b[0mitem\u001b[0m\u001b[0;34m(\u001b[0m\u001b[0;34m)\u001b[0m\u001b[0;34m\u001b[0m\u001b[0;34m\u001b[0m\u001b[0m\n\u001b[0m\u001b[1;32m    568\u001b[0m         \u001b[0mimax\u001b[0m \u001b[0;34m=\u001b[0m \u001b[0mindex\u001b[0m\u001b[0;34m.\u001b[0m\u001b[0mget_indexer\u001b[0m\u001b[0;34m(\u001b[0m\u001b[0;34m[\u001b[0m\u001b[0mmaxval\u001b[0m\u001b[0;34m]\u001b[0m\u001b[0;34m,\u001b[0m \u001b[0mmethod\u001b[0m\u001b[0;34m=\u001b[0m\u001b[0;34m\"nearest\"\u001b[0m\u001b[0;34m)\u001b[0m\u001b[0;34m.\u001b[0m\u001b[0mitem\u001b[0m\u001b[0;34m(\u001b[0m\u001b[0;34m)\u001b[0m\u001b[0;34m\u001b[0m\u001b[0;34m\u001b[0m\u001b[0m\n\u001b[1;32m    569\u001b[0m         \u001b[0mindexes\u001b[0m\u001b[0;34m[\u001b[0m\u001b[0mdim\u001b[0m\u001b[0;34m]\u001b[0m \u001b[0;34m=\u001b[0m \u001b[0mslice\u001b[0m\u001b[0;34m(\u001b[0m\u001b[0mmax\u001b[0m\u001b[0;34m(\u001b[0m\u001b[0mimin\u001b[0m \u001b[0;34m-\u001b[0m \u001b[0;36m2\u001b[0m\u001b[0;34m,\u001b[0m \u001b[0;36m0\u001b[0m\u001b[0;34m)\u001b[0m\u001b[0;34m,\u001b[0m \u001b[0mimax\u001b[0m \u001b[0;34m+\u001b[0m \u001b[0;36m2\u001b[0m\u001b[0;34m)\u001b[0m\u001b[0;34m\u001b[0m\u001b[0;34m\u001b[0m\u001b[0m\n",
      "\u001b[0;32m/usr/local/lib/python3.8/dist-packages/pandas/core/indexes/base.py\u001b[0m in \u001b[0;36mget_indexer\u001b[0;34m(self, target, method, limit, tolerance)\u001b[0m\n\u001b[1;32m   3719\u001b[0m \u001b[0;34m\u001b[0m\u001b[0m\n\u001b[1;32m   3720\u001b[0m         \u001b[0;32mif\u001b[0m \u001b[0;32mnot\u001b[0m \u001b[0mself\u001b[0m\u001b[0;34m.\u001b[0m\u001b[0m_index_as_unique\u001b[0m\u001b[0;34m:\u001b[0m\u001b[0;34m\u001b[0m\u001b[0;34m\u001b[0m\u001b[0m\n\u001b[0;32m-> 3721\u001b[0;31m             \u001b[0;32mraise\u001b[0m \u001b[0mInvalidIndexError\u001b[0m\u001b[0;34m(\u001b[0m\u001b[0mself\u001b[0m\u001b[0;34m.\u001b[0m\u001b[0m_requires_unique_msg\u001b[0m\u001b[0;34m)\u001b[0m\u001b[0;34m\u001b[0m\u001b[0;34m\u001b[0m\u001b[0m\n\u001b[0m\u001b[1;32m   3722\u001b[0m \u001b[0;34m\u001b[0m\u001b[0m\n\u001b[1;32m   3723\u001b[0m         \u001b[0;32mif\u001b[0m \u001b[0mlen\u001b[0m\u001b[0;34m(\u001b[0m\u001b[0mtarget\u001b[0m\u001b[0;34m)\u001b[0m \u001b[0;34m==\u001b[0m \u001b[0;36m0\u001b[0m\u001b[0;34m:\u001b[0m\u001b[0;34m\u001b[0m\u001b[0;34m\u001b[0m\u001b[0m\n",
      "\u001b[0;31mInvalidIndexError\u001b[0m: Reindexing only valid with uniquely valued Index objects"
     ]
    }
   ],
   "source": [
    "ILAT.interp({'time': E[0]}, method = 'linear')"
   ]
  },
  {
   "cell_type": "code",
   "execution_count": null,
   "metadata": {},
   "outputs": [],
   "source": []
  }
 ],
 "metadata": {
  "kernelspec": {
   "display_name": "Python 3.8.10 64-bit",
   "language": "python",
   "name": "python3"
  },
  "language_info": {
   "codemirror_mode": {
    "name": "ipython",
    "version": 3
   },
   "file_extension": ".py",
   "mimetype": "text/x-python",
   "name": "python",
   "nbconvert_exporter": "python",
   "pygments_lexer": "ipython3",
   "version": "3.8.10"
  },
  "orig_nbformat": 4,
  "vscode": {
   "interpreter": {
    "hash": "916dbcbb3f70747c44a77c7bcd40155683ae19c65e1c03b4aa3499c5328201f1"
   }
  }
 },
 "nbformat": 4,
 "nbformat_minor": 2
}
