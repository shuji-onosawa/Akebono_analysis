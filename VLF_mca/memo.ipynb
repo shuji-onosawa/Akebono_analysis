{
 "cells": [
  {
   "cell_type": "code",
   "execution_count": 1,
   "metadata": {},
   "outputs": [
    {
     "name": "stdout",
     "output_type": "stream",
     "text": [
      "[[0 1 2]\n",
      " [3 4 5]\n",
      " [6 7 8]]\n"
     ]
    },
    {
     "data": {
      "text/plain": [
       "(array([0, 1, 2, 3, 4]), array([0, 1, 2, 3, 4, 5, 6, 7, 8, 9]))"
      ]
     },
     "execution_count": 1,
     "metadata": {},
     "output_type": "execute_result"
    }
   ],
   "source": [
    "import numpy as np\n",
    "\n",
    "a = np.arange(9).reshape((3, 3))\n",
    "print(a)\n",
    "\n",
    "np.where(a < 5)\n",
    "list(zip(*np.where(a < 4)))\n"
   ]
  },
  {
   "cell_type": "code",
   "execution_count": 5,
   "metadata": {},
   "outputs": [
    {
     "name": "stdout",
     "output_type": "stream",
     "text": [
      "0 : tinterpol_test\n",
      "1 : tinterpol_test1\n",
      "2 : tinterpol_test1-itrp\n"
     ]
    },
    {
     "data": {
      "text/plain": [
       "['tinterpol_test', 'tinterpol_test1', 'tinterpol_test1-itrp']"
      ]
     },
     "execution_count": 5,
     "metadata": {},
     "output_type": "execute_result"
    }
   ],
   "source": [
    "import pytplot, pyspedas\n",
    "from pytplot import tplot\n",
    "times = np.arange(10)\n",
    "data = np.arange(0,10, 2)\n",
    "data, times\n",
    "pytplot.store_data('tinterpol_test', data = {'x': times, 'y': times})\n",
    "pytplot.store_data('tinterpol_test1', data = {'x': data, 'y': data})\n",
    "pytplot.tplot_names()"
   ]
  },
  {
   "cell_type": "code",
   "execution_count": 6,
   "metadata": {},
   "outputs": [
    {
     "name": "stdout",
     "output_type": "stream",
     "text": [
      "tinterpol (linear) was applied to: tinterpol_test1-itrp\n"
     ]
    }
   ],
   "source": [
    "pyspedas.tinterpol('tinterpol_test1', interp_to='tinterpol_test')"
   ]
  },
  {
   "cell_type": "code",
   "execution_count": 10,
   "metadata": {},
   "outputs": [],
   "source": [
    "x = pytplot.get_data('tinterpol_test')\n",
    "y = pytplot.get_data('tinterpol_test1-itrp')\n",
    "z = pytplot.get_data('tinterpol_test1')"
   ]
  },
  {
   "cell_type": "code",
   "execution_count": 11,
   "metadata": {},
   "outputs": [
    {
     "data": {
      "text/plain": [
       "(variable(times=array([0, 1, 2, 3, 4, 5, 6, 7, 8, 9]), y=array([0, 1, 2, 3, 4, 5, 6, 7, 8, 9])),\n",
       " variable(times=array([0, 1, 2, 3, 4, 5, 6, 7, 8, 9]), y=array([ 0.,  1.,  2.,  3.,  4., nan, nan, nan, nan, nan])),\n",
       " variable(times=array([0, 1, 2, 3, 4]), y=array([0, 1, 2, 3, 4])))"
      ]
     },
     "execution_count": 11,
     "metadata": {},
     "output_type": "execute_result"
    }
   ],
   "source": [
    "x,y,z"
   ]
  },
  {
   "cell_type": "code",
   "execution_count": null,
   "metadata": {},
   "outputs": [],
   "source": []
  }
 ],
 "metadata": {
  "kernelspec": {
   "display_name": "Python 3.8.10 64-bit",
   "language": "python",
   "name": "python3"
  },
  "language_info": {
   "codemirror_mode": {
    "name": "ipython",
    "version": 3
   },
   "file_extension": ".py",
   "mimetype": "text/x-python",
   "name": "python",
   "nbconvert_exporter": "python",
   "pygments_lexer": "ipython3",
   "version": "3.8.10"
  },
  "orig_nbformat": 4,
  "vscode": {
   "interpreter": {
    "hash": "916dbcbb3f70747c44a77c7bcd40155683ae19c65e1c03b4aa3499c5328201f1"
   }
  }
 },
 "nbformat": 4,
 "nbformat_minor": 2
}
