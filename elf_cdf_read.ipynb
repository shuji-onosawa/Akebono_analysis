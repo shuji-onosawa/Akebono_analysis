{
 "cells": [
  {
   "cell_type": "code",
   "execution_count": 3,
   "metadata": {},
   "outputs": [
    {
     "data": {
      "text/plain": [
       "{'CDF': PosixPath('/home/www/Document/Akebono_analysis/Akebono_analysis/ak_h1_elf_19900101_v01.cdf'),\n",
       " 'Version': '2.7.2',\n",
       " 'Encoding': 6,\n",
       " 'Majority': 'Row_major',\n",
       " 'rVariables': [],\n",
       " 'zVariables': ['E',\n",
       "  'B',\n",
       "  'By_narrow',\n",
       "  'Bz_narrow',\n",
       "  'E_axis',\n",
       "  'Mode',\n",
       "  'Epoch',\n",
       "  'PostGap',\n",
       "  'Frequency'],\n",
       " 'Attributes': [{'Acknowledgement': 'Global'},\n",
       "  {'ADID_ref': 'Global'},\n",
       "  {'Data_type': 'Global'},\n",
       "  {'Data_version': 'Global'},\n",
       "  {'Descriptor': 'Global'},\n",
       "  {'Discipline': 'Global'},\n",
       "  {'Generated_by': 'Global'},\n",
       "  {'Generation_date': 'Global'},\n",
       "  {'Instrument_type': 'Global'},\n",
       "  {'Logical_file_id': 'Global'},\n",
       "  {'Logical_source': 'Global'},\n",
       "  {'Logical_source_description': 'Global'},\n",
       "  {'Mission_group': 'Global'},\n",
       "  {'MODS': 'Global'},\n",
       "  {'PI_affiliation': 'Global'},\n",
       "  {'PI_name': 'Global'},\n",
       "  {'Project': 'Global'},\n",
       "  {'Rules_of_use': 'Global'},\n",
       "  {'source_name': 'Global'},\n",
       "  {'TEXT': 'Global'},\n",
       "  {'Time_resolution': 'Global'},\n",
       "  {'TITLE': 'Global'},\n",
       "  {'Start_time': 'Global'},\n",
       "  {'End_time': 'Global'},\n",
       "  {'CATDESC': 'Variable'},\n",
       "  {'DEPEND_0': 'Variable'},\n",
       "  {'DEPEND_1': 'Variable'},\n",
       "  {'DICT_KEY': 'Variable'},\n",
       "  {'DISPLAY_TYPE': 'Variable'},\n",
       "  {'FIELDNAM': 'Variable'},\n",
       "  {'FILLVAL': 'Variable'},\n",
       "  {'FORMAT': 'Variable'},\n",
       "  {'LABLAXIS': 'Variable'},\n",
       "  {'MONOTON': 'Variable'},\n",
       "  {'SCALETYP': 'Variable'},\n",
       "  {'UNITS': 'Variable'},\n",
       "  {'VALIDMAX': 'Variable'},\n",
       "  {'VALIDMIN': 'Variable'},\n",
       "  {'VAR_NOTE': 'Variable'},\n",
       "  {'VAR_TYPE': 'Variable'}],\n",
       " 'Copyright': '\\nNSSDC Common Data Format (CDF)\\n(C) Copyright 1990-2004 NASA/GSFC\\nNational Space Science Data Center\\nNASA/Goddard Space Flight Center\\nGreenbelt, Maryland 20771 USA\\n(DECnet   -- NCF::CDFSUPPORT)\\n(Internet -- CDFSUPPORT@NSSDCA.GSFC.NASA.GOV)\\n',\n",
       " 'Checksum': False,\n",
       " 'Num_rdim': 0,\n",
       " 'rDim_sizes': [],\n",
       " 'Compressed': False}"
      ]
     },
     "execution_count": 3,
     "metadata": {},
     "output_type": "execute_result"
    }
   ],
   "source": [
    "import cdflib\n",
    "cdf_file = cdflib.CDF('ak_h1_elf_19900101_v01.cdf')\n",
    "\n",
    "cdf_file.cdf_info()\n"
   ]
  },
  {
   "cell_type": "code",
   "execution_count": 2,
   "metadata": {},
   "outputs": [
    {
     "data": {
      "text/plain": [
       "{'Acknowledgement': 'AKEBONO VLF-ELF data were provided by Akebono VLF team through the data archive system at Kanazawa University in Japan.',\n",
       " 'ADID_ref': 'NSSD0241 ',\n",
       " 'Data_type': 'H1 > High Resolution data',\n",
       " 'Data_version': '1',\n",
       " 'Descriptor': 'ELF > ELF Receiver',\n",
       " 'Discipline': 'Space Physics > Magnetospheric Science',\n",
       " 'Generated_by': 'KANAZAWA University',\n",
       " 'Generation_date': '20100902',\n",
       " 'Instrument_type': 'Radio and Plasma Waves(space)',\n",
       " 'Logical_file_id': 'AK_H1_ELF_19900101_V01',\n",
       " 'Logical_source': 'AK_H1_ELF',\n",
       " 'Logical_source_description': 'Akebono Radio and Plasma Waves High Resolution data',\n",
       " 'Mission_group': 'Akebono',\n",
       " 'MODS': ' ',\n",
       " 'PI_affiliation': 'KANAZAWA University',\n",
       " 'PI_name': 'I. Nagano',\n",
       " 'Project': ' ',\n",
       " 'Rules_of_use': ' In order to confirm the reliability of the data, you are requested to contact the VLF PI, Prof. Isamu Nagano before using the VLF-ELF data in oral/poster presentations. In the publishment, you should contact to the VLF PI and contact person before the submission for the confirmation of the principle of authorship/aknowledgement. You are also requested to send reprints to AKEBONO Project Office and the VLF PI:\\n\\nAKEBONO Project Office:\\n  Prof. Toshifumi Mukai (Project Scientist),\\n  Institute of Space and Astronautical Science,\\n  3-1-1 Yoshinodai, Sagamihara, Kanagawa 229-8510, Japan\\n  E-mail: mukai@stp.isas.jaxa.jp\\n  FAX: +81-42-759-8456\\n\\nVLF PI:\\n  Prof. Isamu Nagano,\\n  Kanazawa University,\\n  Kakuma, Kanazawa 920-1192, Japan\\n  E-mail: nagano@is.t.kanazawa-u.ac.jp\\n  FAX: +81-76-234-4859\\n\\nFor further information, please contact with:\\n  Dr. Yoshiya Kasahara\\n  Kanazawa University,\\n  Kakuma, Kanazawa 920-1192, Japan\\n  E-mail: kasahara@is.t.kanazawa-u.ac.jp\\n  FAX: +81-76-234-4952\\n',\n",
       " 'source_name': 'Akebono > Akebono satellite',\n",
       " 'TEXT': 'Kimura, I., K. Hashimoto, I. Nagano, T. Okada, M. Yamamoto, T. Yoshino, H. Matsumoto, M. Ejiri, and K. Hayashi,\\nVLF observations by the Akebono (EXOS-D) satellite,\\nJ. Geomagn. Geoelectr., 42(4), pp.459-478, 1990\\n',\n",
       " 'Time_resolution': 's',\n",
       " 'TITLE': 'Akebono ELF High resolution data',\n",
       " 'Start_time': '1990_01/01_0:0:0:0',\n",
       " 'End_time': '1990_01/01_23:59:59:999'}"
      ]
     },
     "execution_count": 2,
     "metadata": {},
     "output_type": "execute_result"
    }
   ],
   "source": [
    "cdf_file.globalattsget()"
   ]
  },
  {
   "cell_type": "code",
   "execution_count": null,
   "metadata": {},
   "outputs": [],
   "source": []
  }
 ],
 "metadata": {
  "kernelspec": {
   "display_name": "Python 3.8.10 64-bit",
   "language": "python",
   "name": "python3"
  },
  "language_info": {
   "codemirror_mode": {
    "name": "ipython",
    "version": 3
   },
   "file_extension": ".py",
   "mimetype": "text/x-python",
   "name": "python",
   "nbconvert_exporter": "python",
   "pygments_lexer": "ipython3",
   "version": "3.8.10"
  },
  "orig_nbformat": 4,
  "vscode": {
   "interpreter": {
    "hash": "916dbcbb3f70747c44a77c7bcd40155683ae19c65e1c03b4aa3499c5328201f1"
   }
  }
 },
 "nbformat": 4,
 "nbformat_minor": 2
}
