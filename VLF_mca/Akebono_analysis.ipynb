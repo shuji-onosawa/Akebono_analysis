{
 "cells": [
  {
   "cell_type": "code",
   "execution_count": 3,
   "metadata": {},
   "outputs": [],
   "source": [
    "import pyspedas\n",
    "import pytplot\n",
    "from pytplot import options\n",
    "from pytplot import tplot\n",
    "from pytplot import tlimit\n",
    "from pytplot import tplot_options\n",
    "from pytplot import get_data, store_data\n",
    "from load import mca, orb\n",
    "import numpy as np"
   ]
  },
  {
   "cell_type": "code",
   "execution_count": 5,
   "metadata": {},
   "outputs": [
    {
     "name": "stdout",
     "output_type": "stream",
     "text": [
      "Time clip returns full data set.\n",
      "Time clip returns full data set.\n",
      "Time clip returns full data set.\n",
      "Time clip returns full data set.\n",
      "Time clip returns full data set.\n"
     ]
    },
    {
     "data": {
      "text/plain": [
       "(['Emax', 'Eave', 'Bmax', 'Bave', 'PostGap'], None)"
      ]
     },
     "execution_count": 5,
     "metadata": {},
     "output_type": "execute_result"
    }
   ],
   "source": [
    "trange = ['2003-10-27', '2003-10-31']\n",
    "mca(trange=trange), orb(trange=trange)\n"
   ]
  },
  {
   "cell_type": "code",
   "execution_count": 6,
   "metadata": {},
   "outputs": [
    {
     "name": "stdout",
     "output_type": "stream",
     "text": [
      "0 : Emax\n",
      "1 : Eave\n",
      "2 : Bmax\n",
      "3 : Bave\n",
      "4 : PostGap\n",
      "5 : akb_orb_Pass\n",
      "6 : akb_orb_ILAT\n",
      "7 : akb_orb_MLAT\n",
      "8 : akb_orb_MLT\n",
      "9 : akb_orb_ALT\n"
     ]
    },
    {
     "data": {
      "text/plain": [
       "['Emax',\n",
       " 'Eave',\n",
       " 'Bmax',\n",
       " 'Bave',\n",
       " 'PostGap',\n",
       " 'akb_orb_Pass',\n",
       " 'akb_orb_ILAT',\n",
       " 'akb_orb_MLAT',\n",
       " 'akb_orb_MLT',\n",
       " 'akb_orb_ALT']"
      ]
     },
     "execution_count": 6,
     "metadata": {},
     "output_type": "execute_result"
    }
   ],
   "source": [
    "pytplot.tplot_names()"
   ]
  },
  {
   "cell_type": "code",
   "execution_count": 17,
   "metadata": {},
   "outputs": [],
   "source": [
    "tplot_names = [\"Emax\", \"Eave\", \"Bmax\", \"Bave\"]\n",
    "for tplot_name in tplot_names:\n",
    "    tplot_variable = pytplot.get_data(tplot_name)\n",
    "    tplot_variable_0dB = 1e-6 #mV or pT\n",
    "    bandwidth = tplot_variable.v * 0.3\n",
    "    tplot_variable_Amplitude = (10**(tplot_variable.y/20)) * (tplot_variable_0dB**2) / bandwidth \n",
    "    store_data(tplot_name +'_Amplitude', data={'x': tplot_variable.times, 'y': tplot_variable_Amplitude, 'v': tplot_variable.v})\n",
    "    "
   ]
  },
  {
   "cell_type": "code",
   "execution_count": 8,
   "metadata": {},
   "outputs": [
    {
     "data": {
      "text/plain": [
       "(43200, 691200, 16)"
      ]
     },
     "execution_count": 8,
     "metadata": {},
     "output_type": "execute_result"
    }
   ],
   "source": [
    "a = pytplot.get_data('Emax')\n",
    "a.times.size, a.y.size, a.v.size"
   ]
  },
  {
   "cell_type": "code",
   "execution_count": 7,
   "metadata": {},
   "outputs": [
    {
     "ename": "ValueError",
     "evalue": "Invalid vmin or vmax",
     "output_type": "error",
     "traceback": [
      "\u001b[0;31m---------------------------------------------------------------------------\u001b[0m",
      "\u001b[0;31mValueError\u001b[0m                                Traceback (most recent call last)",
      "\u001b[1;32m/home/www/Document/Akebono_analysis/Akebono_analysis/VLF_mca/Akebono_analysis.ipynb Cell 6'\u001b[0m in \u001b[0;36m<cell line: 9>\u001b[0;34m()\u001b[0m\n\u001b[1;32m      <a href='vscode-notebook-cell://wsl%2Bubuntu-20.04/home/www/Document/Akebono_analysis/Akebono_analysis/VLF_mca/Akebono_analysis.ipynb#ch0000005vscode-remote?line=6'>7</a>\u001b[0m options(\u001b[39m'\u001b[39m\u001b[39mEmax\u001b[39m\u001b[39m'\u001b[39m, \u001b[39m'\u001b[39m\u001b[39mztitle\u001b[39m\u001b[39m'\u001b[39m, \u001b[39m'\u001b[39m\u001b[39m[mV/m/Hz^1/2]\u001b[39m\u001b[39m'\u001b[39m)\n\u001b[1;32m      <a href='vscode-notebook-cell://wsl%2Bubuntu-20.04/home/www/Document/Akebono_analysis/Akebono_analysis/VLF_mca/Akebono_analysis.ipynb#ch0000005vscode-remote?line=7'>8</a>\u001b[0m tplot_options(\u001b[39m'\u001b[39m\u001b[39mtitle\u001b[39m\u001b[39m'\u001b[39m, \u001b[39m'\u001b[39m\u001b[39mMCA data\u001b[39m\u001b[39m'\u001b[39m)\n\u001b[0;32m----> <a href='vscode-notebook-cell://wsl%2Bubuntu-20.04/home/www/Document/Akebono_analysis/Akebono_analysis/VLF_mca/Akebono_analysis.ipynb#ch0000005vscode-remote?line=8'>9</a>\u001b[0m tplot(\u001b[39m\"\u001b[39;49m\u001b[39mEmax\u001b[39;49m\u001b[39m\"\u001b[39;49m)\n",
      "File \u001b[0;32m~/.local/lib/python3.8/site-packages/pytplot/tplot.py:158\u001b[0m, in \u001b[0;36mtplot\u001b[0;34m(name, var_label, slice, combine_axes, nb, save_file, gui, qt, bokeh, save_png, display, testing, extra_functions, extra_function_args, vert_spacing, pos_2d, pos_3d, exec_qt, window_name, interactive, xsize, ysize, save_eps, save_svg, save_pdf, fig, axis, pseudo_plot_num, second_axis_size, return_plot_objects)\u001b[0m\n\u001b[1;32m     75\u001b[0m \u001b[39m\"\"\"\u001b[39;00m\n\u001b[1;32m     76\u001b[0m \u001b[39mThis is the function used to display the tplot variables stored in memory.\u001b[39;00m\n\u001b[1;32m     77\u001b[0m \u001b[39mThe default output is to show the plots stacked on top of one another inside of a qt window\u001b[39;00m\n\u001b[0;32m   (...)\u001b[0m\n\u001b[1;32m    154\u001b[0m \u001b[39m    >>> div, component = pytplot.tplot([\"Variable1\", \"Variable2\", \"Variable3\"], gui=True)\u001b[39;00m\n\u001b[1;32m    155\u001b[0m \u001b[39m\"\"\"\u001b[39;00m\n\u001b[1;32m    157\u001b[0m \u001b[39mif\u001b[39;00m qt \u001b[39m==\u001b[39m \u001b[39mFalse\u001b[39;00m \u001b[39mand\u001b[39;00m bokeh \u001b[39m==\u001b[39m \u001b[39mFalse\u001b[39;00m:\n\u001b[0;32m--> 158\u001b[0m     \u001b[39mreturn\u001b[39;00m mpl_tplot(name, var_label\u001b[39m=\u001b[39;49mvar_label,\n\u001b[1;32m    159\u001b[0m                            xsize\u001b[39m=\u001b[39;49mxsize, \n\u001b[1;32m    160\u001b[0m                            ysize\u001b[39m=\u001b[39;49mysize, \n\u001b[1;32m    161\u001b[0m                            save_png\u001b[39m=\u001b[39;49msave_png, \n\u001b[1;32m    162\u001b[0m                            save_eps\u001b[39m=\u001b[39;49msave_eps, \n\u001b[1;32m    163\u001b[0m                            save_svg\u001b[39m=\u001b[39;49msave_svg, \n\u001b[1;32m    164\u001b[0m                            save_pdf\u001b[39m=\u001b[39;49msave_pdf, \n\u001b[1;32m    165\u001b[0m                            display\u001b[39m=\u001b[39;49mdisplay, \n\u001b[1;32m    166\u001b[0m                            fig\u001b[39m=\u001b[39;49mfig, \n\u001b[1;32m    167\u001b[0m                            axis\u001b[39m=\u001b[39;49maxis,\n\u001b[1;32m    168\u001b[0m                            \u001b[39mslice\u001b[39;49m\u001b[39m=\u001b[39;49m\u001b[39mslice\u001b[39;49m,\n\u001b[1;32m    169\u001b[0m                            pseudo_plot_num\u001b[39m=\u001b[39;49mpseudo_plot_num, \n\u001b[1;32m    170\u001b[0m                            second_axis_size\u001b[39m=\u001b[39;49msecond_axis_size,\n\u001b[1;32m    171\u001b[0m                            return_plot_objects\u001b[39m=\u001b[39;49mreturn_plot_objects)\n\u001b[1;32m    173\u001b[0m \u001b[39mif\u001b[39;00m interactive:\n\u001b[1;32m    174\u001b[0m     \u001b[39mslice\u001b[39m\u001b[39m=\u001b[39m\u001b[39mTrue\u001b[39;00m\n",
      "File \u001b[0;32m~/.local/lib/python3.8/site-packages/pytplot/MPLPlotter/tplot.py:401\u001b[0m, in \u001b[0;36mtplot\u001b[0;34m(variables, var_label, xsize, ysize, save_png, save_eps, save_svg, save_pdf, display, fig, axis, pseudo_plot_num, pseudo_right_axis, pseudo_yaxis_options, pseudo_zaxis_options, pseudo_line_options, pseudo_extra_options, second_axis_size, slice, return_plot_objects)\u001b[0m\n\u001b[1;32m    399\u001b[0m \u001b[39mif\u001b[39;00m colorbars[variable][\u001b[39m'\u001b[39m\u001b[39maxis_font_size\u001b[39m\u001b[39m'\u001b[39m] \u001b[39mis\u001b[39;00m \u001b[39mnot\u001b[39;00m \u001b[39mNone\u001b[39;00m:\n\u001b[1;32m    400\u001b[0m     cax\u001b[39m.\u001b[39mtick_params(labelsize\u001b[39m=\u001b[39mcolorbars[variable][\u001b[39m'\u001b[39m\u001b[39maxis_font_size\u001b[39m\u001b[39m'\u001b[39m])\n\u001b[0;32m--> 401\u001b[0m colorbar \u001b[39m=\u001b[39m fig\u001b[39m.\u001b[39;49mcolorbar(colorbars[variable][\u001b[39m'\u001b[39;49m\u001b[39mim\u001b[39;49m\u001b[39m'\u001b[39;49m], cax\u001b[39m=\u001b[39;49mcax)\n\u001b[1;32m    403\u001b[0m ztitle_color \u001b[39m=\u001b[39m \u001b[39m'\u001b[39m\u001b[39mblack\u001b[39m\u001b[39m'\u001b[39m\n\u001b[1;32m    404\u001b[0m \u001b[39mif\u001b[39;00m zaxis_options\u001b[39m.\u001b[39mget(\u001b[39m'\u001b[39m\u001b[39maxis_color\u001b[39m\u001b[39m'\u001b[39m) \u001b[39mis\u001b[39;00m \u001b[39mnot\u001b[39;00m \u001b[39mNone\u001b[39;00m:\n",
      "File \u001b[0;32m~/.local/lib/python3.8/site-packages/matplotlib/figure.py:1210\u001b[0m, in \u001b[0;36mFigureBase.colorbar\u001b[0;34m(self, mappable, cax, ax, use_gridspec, **kw)\u001b[0m\n\u001b[1;32m   1206\u001b[0m NON_COLORBAR_KEYS \u001b[39m=\u001b[39m [\u001b[39m'\u001b[39m\u001b[39mfraction\u001b[39m\u001b[39m'\u001b[39m, \u001b[39m'\u001b[39m\u001b[39mpad\u001b[39m\u001b[39m'\u001b[39m, \u001b[39m'\u001b[39m\u001b[39mshrink\u001b[39m\u001b[39m'\u001b[39m, \u001b[39m'\u001b[39m\u001b[39maspect\u001b[39m\u001b[39m'\u001b[39m, \u001b[39m'\u001b[39m\u001b[39manchor\u001b[39m\u001b[39m'\u001b[39m,\n\u001b[1;32m   1207\u001b[0m                      \u001b[39m'\u001b[39m\u001b[39mpanchor\u001b[39m\u001b[39m'\u001b[39m]\n\u001b[1;32m   1208\u001b[0m cb_kw \u001b[39m=\u001b[39m {k: v \u001b[39mfor\u001b[39;00m k, v \u001b[39min\u001b[39;00m kw\u001b[39m.\u001b[39mitems() \u001b[39mif\u001b[39;00m k \u001b[39mnot\u001b[39;00m \u001b[39min\u001b[39;00m NON_COLORBAR_KEYS}\n\u001b[0;32m-> 1210\u001b[0m cb \u001b[39m=\u001b[39m cbar\u001b[39m.\u001b[39;49mColorbar(cax, mappable, \u001b[39m*\u001b[39;49m\u001b[39m*\u001b[39;49mcb_kw)\n\u001b[1;32m   1212\u001b[0m \u001b[39mif\u001b[39;00m \u001b[39mnot\u001b[39;00m userax:\n\u001b[1;32m   1213\u001b[0m     \u001b[39mself\u001b[39m\u001b[39m.\u001b[39msca(current_ax)\n",
      "File \u001b[0;32m~/.local/lib/python3.8/site-packages/matplotlib/colorbar.py:483\u001b[0m, in \u001b[0;36mColorbar.__init__\u001b[0;34m(self, ax, mappable, cmap, norm, alpha, values, boundaries, orientation, ticklocation, extend, spacing, ticks, format, drawedges, filled, extendfrac, extendrect, label)\u001b[0m\n\u001b[1;32m    480\u001b[0m \u001b[39mself\u001b[39m\u001b[39m.\u001b[39mticklocation \u001b[39m=\u001b[39m ticklocation\n\u001b[1;32m    482\u001b[0m \u001b[39mself\u001b[39m\u001b[39m.\u001b[39mset_label(label)\n\u001b[0;32m--> 483\u001b[0m \u001b[39mself\u001b[39;49m\u001b[39m.\u001b[39;49m_reset_locator_formatter_scale()\n\u001b[1;32m    485\u001b[0m \u001b[39mif\u001b[39;00m np\u001b[39m.\u001b[39miterable(ticks):\n\u001b[1;32m    486\u001b[0m     \u001b[39mself\u001b[39m\u001b[39m.\u001b[39mlocator \u001b[39m=\u001b[39m ticker\u001b[39m.\u001b[39mFixedLocator(ticks, nbins\u001b[39m=\u001b[39m\u001b[39mlen\u001b[39m(ticks))\n",
      "File \u001b[0;32m~/.local/lib/python3.8/site-packages/matplotlib/colorbar.py:1206\u001b[0m, in \u001b[0;36mColorbar._reset_locator_formatter_scale\u001b[0;34m(self)\u001b[0m\n\u001b[1;32m   1200\u001b[0m \u001b[39mdef\u001b[39;00m \u001b[39m_reset_locator_formatter_scale\u001b[39m(\u001b[39mself\u001b[39m):\n\u001b[1;32m   1201\u001b[0m     \u001b[39m\"\"\"\u001b[39;00m\n\u001b[1;32m   1202\u001b[0m \u001b[39m    Reset the locator et al to defaults.  Any user-hardcoded changes\u001b[39;00m\n\u001b[1;32m   1203\u001b[0m \u001b[39m    need to be re-entered if this gets called (either at init, or when\u001b[39;00m\n\u001b[1;32m   1204\u001b[0m \u001b[39m    the mappable normal gets changed: Colorbar.update_normal)\u001b[39;00m\n\u001b[1;32m   1205\u001b[0m \u001b[39m    \"\"\"\u001b[39;00m\n\u001b[0;32m-> 1206\u001b[0m     \u001b[39mself\u001b[39;49m\u001b[39m.\u001b[39;49m_process_values()\n\u001b[1;32m   1207\u001b[0m     \u001b[39mself\u001b[39m\u001b[39m.\u001b[39mlocator \u001b[39m=\u001b[39m \u001b[39mNone\u001b[39;00m\n\u001b[1;32m   1208\u001b[0m     \u001b[39mself\u001b[39m\u001b[39m.\u001b[39mminorlocator \u001b[39m=\u001b[39m \u001b[39mNone\u001b[39;00m\n",
      "File \u001b[0;32m~/.local/lib/python3.8/site-packages/matplotlib/colorbar.py:1144\u001b[0m, in \u001b[0;36mColorbar._process_values\u001b[0;34m(self)\u001b[0m\n\u001b[1;32m   1140\u001b[0m \u001b[39mself\u001b[39m\u001b[39m.\u001b[39mnorm\u001b[39m.\u001b[39mvmin, \u001b[39mself\u001b[39m\u001b[39m.\u001b[39mnorm\u001b[39m.\u001b[39mvmax \u001b[39m=\u001b[39m mtransforms\u001b[39m.\u001b[39mnonsingular(\n\u001b[1;32m   1141\u001b[0m     \u001b[39mself\u001b[39m\u001b[39m.\u001b[39mnorm\u001b[39m.\u001b[39mvmin, \u001b[39mself\u001b[39m\u001b[39m.\u001b[39mnorm\u001b[39m.\u001b[39mvmax, expander\u001b[39m=\u001b[39m\u001b[39m0.1\u001b[39m)\n\u001b[1;32m   1142\u001b[0m \u001b[39mif\u001b[39;00m (\u001b[39mnot\u001b[39;00m \u001b[39misinstance\u001b[39m(\u001b[39mself\u001b[39m\u001b[39m.\u001b[39mnorm, colors\u001b[39m.\u001b[39mBoundaryNorm) \u001b[39mand\u001b[39;00m\n\u001b[1;32m   1143\u001b[0m         (\u001b[39mself\u001b[39m\u001b[39m.\u001b[39mboundaries \u001b[39mis\u001b[39;00m \u001b[39mNone\u001b[39;00m)):\n\u001b[0;32m-> 1144\u001b[0m     b \u001b[39m=\u001b[39m \u001b[39mself\u001b[39;49m\u001b[39m.\u001b[39;49mnorm\u001b[39m.\u001b[39;49minverse(b)\n\u001b[1;32m   1146\u001b[0m \u001b[39mself\u001b[39m\u001b[39m.\u001b[39m_boundaries \u001b[39m=\u001b[39m np\u001b[39m.\u001b[39masarray(b, dtype\u001b[39m=\u001b[39m\u001b[39mfloat\u001b[39m)\n\u001b[1;32m   1147\u001b[0m \u001b[39mself\u001b[39m\u001b[39m.\u001b[39m_values \u001b[39m=\u001b[39m \u001b[39m0.5\u001b[39m \u001b[39m*\u001b[39m (\u001b[39mself\u001b[39m\u001b[39m.\u001b[39m_boundaries[:\u001b[39m-\u001b[39m\u001b[39m1\u001b[39m] \u001b[39m+\u001b[39m \u001b[39mself\u001b[39m\u001b[39m.\u001b[39m_boundaries[\u001b[39m1\u001b[39m:])\n",
      "File \u001b[0;32m~/.local/lib/python3.8/site-packages/matplotlib/colors.py:1554\u001b[0m, in \u001b[0;36mmake_norm_from_scale.<locals>.Norm.inverse\u001b[0;34m(self, value)\u001b[0m\n\u001b[1;32m   1552\u001b[0m t_vmin, t_vmax \u001b[39m=\u001b[39m \u001b[39mself\u001b[39m\u001b[39m.\u001b[39m_trf\u001b[39m.\u001b[39mtransform([\u001b[39mself\u001b[39m\u001b[39m.\u001b[39mvmin, \u001b[39mself\u001b[39m\u001b[39m.\u001b[39mvmax])\n\u001b[1;32m   1553\u001b[0m \u001b[39mif\u001b[39;00m \u001b[39mnot\u001b[39;00m np\u001b[39m.\u001b[39misfinite([t_vmin, t_vmax])\u001b[39m.\u001b[39mall():\n\u001b[0;32m-> 1554\u001b[0m     \u001b[39mraise\u001b[39;00m \u001b[39mValueError\u001b[39;00m(\u001b[39m\"\u001b[39m\u001b[39mInvalid vmin or vmax\u001b[39m\u001b[39m\"\u001b[39m)\n\u001b[1;32m   1555\u001b[0m value, is_scalar \u001b[39m=\u001b[39m \u001b[39mself\u001b[39m\u001b[39m.\u001b[39mprocess_value(value)\n\u001b[1;32m   1556\u001b[0m rescaled \u001b[39m=\u001b[39m value \u001b[39m*\u001b[39m (t_vmax \u001b[39m-\u001b[39m t_vmin)\n",
      "\u001b[0;31mValueError\u001b[0m: Invalid vmin or vmax"
     ]
    },
    {
     "ename": "ValueError",
     "evalue": "Invalid vmin or vmax",
     "output_type": "error",
     "traceback": [
      "\u001b[0;31m---------------------------------------------------------------------------\u001b[0m",
      "\u001b[0;31mValueError\u001b[0m                                Traceback (most recent call last)",
      "File \u001b[0;32m~/.local/lib/python3.8/site-packages/IPython/core/formatters.py:339\u001b[0m, in \u001b[0;36mBaseFormatter.__call__\u001b[0;34m(self, obj)\u001b[0m\n\u001b[1;32m    337\u001b[0m     \u001b[39mpass\u001b[39;00m\n\u001b[1;32m    338\u001b[0m \u001b[39melse\u001b[39;00m:\n\u001b[0;32m--> 339\u001b[0m     \u001b[39mreturn\u001b[39;00m printer(obj)\n\u001b[1;32m    340\u001b[0m \u001b[39m# Finally look for special method names\u001b[39;00m\n\u001b[1;32m    341\u001b[0m method \u001b[39m=\u001b[39m get_real_method(obj, \u001b[39mself\u001b[39m\u001b[39m.\u001b[39mprint_method)\n",
      "File \u001b[0;32m~/.local/lib/python3.8/site-packages/IPython/core/pylabtools.py:151\u001b[0m, in \u001b[0;36mprint_figure\u001b[0;34m(fig, fmt, bbox_inches, base64, **kwargs)\u001b[0m\n\u001b[1;32m    148\u001b[0m     \u001b[39mfrom\u001b[39;00m \u001b[39mmatplotlib\u001b[39;00m\u001b[39m.\u001b[39;00m\u001b[39mbackend_bases\u001b[39;00m \u001b[39mimport\u001b[39;00m FigureCanvasBase\n\u001b[1;32m    149\u001b[0m     FigureCanvasBase(fig)\n\u001b[0;32m--> 151\u001b[0m fig\u001b[39m.\u001b[39;49mcanvas\u001b[39m.\u001b[39;49mprint_figure(bytes_io, \u001b[39m*\u001b[39;49m\u001b[39m*\u001b[39;49mkw)\n\u001b[1;32m    152\u001b[0m data \u001b[39m=\u001b[39m bytes_io\u001b[39m.\u001b[39mgetvalue()\n\u001b[1;32m    153\u001b[0m \u001b[39mif\u001b[39;00m fmt \u001b[39m==\u001b[39m \u001b[39m'\u001b[39m\u001b[39msvg\u001b[39m\u001b[39m'\u001b[39m:\n",
      "File \u001b[0;32m~/.local/lib/python3.8/site-packages/matplotlib/backend_bases.py:2295\u001b[0m, in \u001b[0;36mFigureCanvasBase.print_figure\u001b[0;34m(self, filename, dpi, facecolor, edgecolor, orientation, format, bbox_inches, pad_inches, bbox_extra_artists, backend, **kwargs)\u001b[0m\n\u001b[1;32m   2289\u001b[0m     renderer \u001b[39m=\u001b[39m _get_renderer(\n\u001b[1;32m   2290\u001b[0m         \u001b[39mself\u001b[39m\u001b[39m.\u001b[39mfigure,\n\u001b[1;32m   2291\u001b[0m         functools\u001b[39m.\u001b[39mpartial(\n\u001b[1;32m   2292\u001b[0m             print_method, orientation\u001b[39m=\u001b[39morientation)\n\u001b[1;32m   2293\u001b[0m     )\n\u001b[1;32m   2294\u001b[0m     \u001b[39mwith\u001b[39;00m \u001b[39mgetattr\u001b[39m(renderer, \u001b[39m\"\u001b[39m\u001b[39m_draw_disabled\u001b[39m\u001b[39m\"\u001b[39m, nullcontext)():\n\u001b[0;32m-> 2295\u001b[0m         \u001b[39mself\u001b[39;49m\u001b[39m.\u001b[39;49mfigure\u001b[39m.\u001b[39;49mdraw(renderer)\n\u001b[1;32m   2297\u001b[0m \u001b[39mif\u001b[39;00m bbox_inches:\n\u001b[1;32m   2298\u001b[0m     \u001b[39mif\u001b[39;00m bbox_inches \u001b[39m==\u001b[39m \u001b[39m\"\u001b[39m\u001b[39mtight\u001b[39m\u001b[39m\"\u001b[39m:\n",
      "File \u001b[0;32m~/.local/lib/python3.8/site-packages/matplotlib/artist.py:73\u001b[0m, in \u001b[0;36m_finalize_rasterization.<locals>.draw_wrapper\u001b[0;34m(artist, renderer, *args, **kwargs)\u001b[0m\n\u001b[1;32m     71\u001b[0m \u001b[39m@wraps\u001b[39m(draw)\n\u001b[1;32m     72\u001b[0m \u001b[39mdef\u001b[39;00m \u001b[39mdraw_wrapper\u001b[39m(artist, renderer, \u001b[39m*\u001b[39margs, \u001b[39m*\u001b[39m\u001b[39m*\u001b[39mkwargs):\n\u001b[0;32m---> 73\u001b[0m     result \u001b[39m=\u001b[39m draw(artist, renderer, \u001b[39m*\u001b[39;49margs, \u001b[39m*\u001b[39;49m\u001b[39m*\u001b[39;49mkwargs)\n\u001b[1;32m     74\u001b[0m     \u001b[39mif\u001b[39;00m renderer\u001b[39m.\u001b[39m_rasterizing:\n\u001b[1;32m     75\u001b[0m         renderer\u001b[39m.\u001b[39mstop_rasterizing()\n",
      "File \u001b[0;32m~/.local/lib/python3.8/site-packages/matplotlib/artist.py:50\u001b[0m, in \u001b[0;36mallow_rasterization.<locals>.draw_wrapper\u001b[0;34m(artist, renderer)\u001b[0m\n\u001b[1;32m     47\u001b[0m     \u001b[39mif\u001b[39;00m artist\u001b[39m.\u001b[39mget_agg_filter() \u001b[39mis\u001b[39;00m \u001b[39mnot\u001b[39;00m \u001b[39mNone\u001b[39;00m:\n\u001b[1;32m     48\u001b[0m         renderer\u001b[39m.\u001b[39mstart_filter()\n\u001b[0;32m---> 50\u001b[0m     \u001b[39mreturn\u001b[39;00m draw(artist, renderer)\n\u001b[1;32m     51\u001b[0m \u001b[39mfinally\u001b[39;00m:\n\u001b[1;32m     52\u001b[0m     \u001b[39mif\u001b[39;00m artist\u001b[39m.\u001b[39mget_agg_filter() \u001b[39mis\u001b[39;00m \u001b[39mnot\u001b[39;00m \u001b[39mNone\u001b[39;00m:\n",
      "File \u001b[0;32m~/.local/lib/python3.8/site-packages/matplotlib/figure.py:2837\u001b[0m, in \u001b[0;36mFigure.draw\u001b[0;34m(self, renderer)\u001b[0m\n\u001b[1;32m   2834\u001b[0m         \u001b[39m# ValueError can occur when resizing a window.\u001b[39;00m\n\u001b[1;32m   2836\u001b[0m \u001b[39mself\u001b[39m\u001b[39m.\u001b[39mpatch\u001b[39m.\u001b[39mdraw(renderer)\n\u001b[0;32m-> 2837\u001b[0m mimage\u001b[39m.\u001b[39;49m_draw_list_compositing_images(\n\u001b[1;32m   2838\u001b[0m     renderer, \u001b[39mself\u001b[39;49m, artists, \u001b[39mself\u001b[39;49m\u001b[39m.\u001b[39;49msuppressComposite)\n\u001b[1;32m   2840\u001b[0m \u001b[39mfor\u001b[39;00m sfig \u001b[39min\u001b[39;00m \u001b[39mself\u001b[39m\u001b[39m.\u001b[39msubfigs:\n\u001b[1;32m   2841\u001b[0m     sfig\u001b[39m.\u001b[39mdraw(renderer)\n",
      "File \u001b[0;32m~/.local/lib/python3.8/site-packages/matplotlib/image.py:132\u001b[0m, in \u001b[0;36m_draw_list_compositing_images\u001b[0;34m(renderer, parent, artists, suppress_composite)\u001b[0m\n\u001b[1;32m    130\u001b[0m \u001b[39mif\u001b[39;00m not_composite \u001b[39mor\u001b[39;00m \u001b[39mnot\u001b[39;00m has_images:\n\u001b[1;32m    131\u001b[0m     \u001b[39mfor\u001b[39;00m a \u001b[39min\u001b[39;00m artists:\n\u001b[0;32m--> 132\u001b[0m         a\u001b[39m.\u001b[39;49mdraw(renderer)\n\u001b[1;32m    133\u001b[0m \u001b[39melse\u001b[39;00m:\n\u001b[1;32m    134\u001b[0m     \u001b[39m# Composite any adjacent images together\u001b[39;00m\n\u001b[1;32m    135\u001b[0m     image_group \u001b[39m=\u001b[39m []\n",
      "File \u001b[0;32m~/.local/lib/python3.8/site-packages/matplotlib/artist.py:50\u001b[0m, in \u001b[0;36mallow_rasterization.<locals>.draw_wrapper\u001b[0;34m(artist, renderer)\u001b[0m\n\u001b[1;32m     47\u001b[0m     \u001b[39mif\u001b[39;00m artist\u001b[39m.\u001b[39mget_agg_filter() \u001b[39mis\u001b[39;00m \u001b[39mnot\u001b[39;00m \u001b[39mNone\u001b[39;00m:\n\u001b[1;32m     48\u001b[0m         renderer\u001b[39m.\u001b[39mstart_filter()\n\u001b[0;32m---> 50\u001b[0m     \u001b[39mreturn\u001b[39;00m draw(artist, renderer)\n\u001b[1;32m     51\u001b[0m \u001b[39mfinally\u001b[39;00m:\n\u001b[1;32m     52\u001b[0m     \u001b[39mif\u001b[39;00m artist\u001b[39m.\u001b[39mget_agg_filter() \u001b[39mis\u001b[39;00m \u001b[39mnot\u001b[39;00m \u001b[39mNone\u001b[39;00m:\n",
      "File \u001b[0;32m~/.local/lib/python3.8/site-packages/matplotlib/axes/_base.py:3091\u001b[0m, in \u001b[0;36m_AxesBase.draw\u001b[0;34m(self, renderer)\u001b[0m\n\u001b[1;32m   3088\u001b[0m         a\u001b[39m.\u001b[39mdraw(renderer)\n\u001b[1;32m   3089\u001b[0m     renderer\u001b[39m.\u001b[39mstop_rasterizing()\n\u001b[0;32m-> 3091\u001b[0m mimage\u001b[39m.\u001b[39;49m_draw_list_compositing_images(\n\u001b[1;32m   3092\u001b[0m     renderer, \u001b[39mself\u001b[39;49m, artists, \u001b[39mself\u001b[39;49m\u001b[39m.\u001b[39;49mfigure\u001b[39m.\u001b[39;49msuppressComposite)\n\u001b[1;32m   3094\u001b[0m renderer\u001b[39m.\u001b[39mclose_group(\u001b[39m'\u001b[39m\u001b[39maxes\u001b[39m\u001b[39m'\u001b[39m)\n\u001b[1;32m   3095\u001b[0m \u001b[39mself\u001b[39m\u001b[39m.\u001b[39mstale \u001b[39m=\u001b[39m \u001b[39mFalse\u001b[39;00m\n",
      "File \u001b[0;32m~/.local/lib/python3.8/site-packages/matplotlib/image.py:132\u001b[0m, in \u001b[0;36m_draw_list_compositing_images\u001b[0;34m(renderer, parent, artists, suppress_composite)\u001b[0m\n\u001b[1;32m    130\u001b[0m \u001b[39mif\u001b[39;00m not_composite \u001b[39mor\u001b[39;00m \u001b[39mnot\u001b[39;00m has_images:\n\u001b[1;32m    131\u001b[0m     \u001b[39mfor\u001b[39;00m a \u001b[39min\u001b[39;00m artists:\n\u001b[0;32m--> 132\u001b[0m         a\u001b[39m.\u001b[39;49mdraw(renderer)\n\u001b[1;32m    133\u001b[0m \u001b[39melse\u001b[39;00m:\n\u001b[1;32m    134\u001b[0m     \u001b[39m# Composite any adjacent images together\u001b[39;00m\n\u001b[1;32m    135\u001b[0m     image_group \u001b[39m=\u001b[39m []\n",
      "File \u001b[0;32m~/.local/lib/python3.8/site-packages/matplotlib/artist.py:50\u001b[0m, in \u001b[0;36mallow_rasterization.<locals>.draw_wrapper\u001b[0;34m(artist, renderer)\u001b[0m\n\u001b[1;32m     47\u001b[0m     \u001b[39mif\u001b[39;00m artist\u001b[39m.\u001b[39mget_agg_filter() \u001b[39mis\u001b[39;00m \u001b[39mnot\u001b[39;00m \u001b[39mNone\u001b[39;00m:\n\u001b[1;32m     48\u001b[0m         renderer\u001b[39m.\u001b[39mstart_filter()\n\u001b[0;32m---> 50\u001b[0m     \u001b[39mreturn\u001b[39;00m draw(artist, renderer)\n\u001b[1;32m     51\u001b[0m \u001b[39mfinally\u001b[39;00m:\n\u001b[1;32m     52\u001b[0m     \u001b[39mif\u001b[39;00m artist\u001b[39m.\u001b[39mget_agg_filter() \u001b[39mis\u001b[39;00m \u001b[39mnot\u001b[39;00m \u001b[39mNone\u001b[39;00m:\n",
      "File \u001b[0;32m~/.local/lib/python3.8/site-packages/matplotlib/collections.py:2175\u001b[0m, in \u001b[0;36mQuadMesh.draw\u001b[0;34m(self, renderer)\u001b[0m\n\u001b[1;32m   2172\u001b[0m     ys \u001b[39m=\u001b[39m \u001b[39mself\u001b[39m\u001b[39m.\u001b[39mconvert_yunits(offsets[:, \u001b[39m1\u001b[39m])\n\u001b[1;32m   2173\u001b[0m     offsets \u001b[39m=\u001b[39m np\u001b[39m.\u001b[39mcolumn_stack([xs, ys])\n\u001b[0;32m-> 2175\u001b[0m \u001b[39mself\u001b[39;49m\u001b[39m.\u001b[39;49mupdate_scalarmappable()\n\u001b[1;32m   2177\u001b[0m \u001b[39mif\u001b[39;00m \u001b[39mnot\u001b[39;00m transform\u001b[39m.\u001b[39mis_affine:\n\u001b[1;32m   2178\u001b[0m     coordinates \u001b[39m=\u001b[39m \u001b[39mself\u001b[39m\u001b[39m.\u001b[39m_coordinates\u001b[39m.\u001b[39mreshape((\u001b[39m-\u001b[39m\u001b[39m1\u001b[39m, \u001b[39m2\u001b[39m))\n",
      "File \u001b[0;32m~/.local/lib/python3.8/site-packages/matplotlib/collections.py:905\u001b[0m, in \u001b[0;36mCollection.update_scalarmappable\u001b[0;34m(self)\u001b[0m\n\u001b[1;32m    903\u001b[0m         \u001b[39m# pcolormesh, scatter, maybe others flatten their _A\u001b[39;00m\n\u001b[1;32m    904\u001b[0m         \u001b[39mself\u001b[39m\u001b[39m.\u001b[39m_alpha \u001b[39m=\u001b[39m \u001b[39mself\u001b[39m\u001b[39m.\u001b[39m_alpha\u001b[39m.\u001b[39mreshape(\u001b[39mself\u001b[39m\u001b[39m.\u001b[39m_A\u001b[39m.\u001b[39mshape)\n\u001b[0;32m--> 905\u001b[0m     \u001b[39mself\u001b[39m\u001b[39m.\u001b[39m_mapped_colors \u001b[39m=\u001b[39m \u001b[39mself\u001b[39;49m\u001b[39m.\u001b[39;49mto_rgba(\u001b[39mself\u001b[39;49m\u001b[39m.\u001b[39;49m_A, \u001b[39mself\u001b[39;49m\u001b[39m.\u001b[39;49m_alpha)\n\u001b[1;32m    907\u001b[0m \u001b[39mif\u001b[39;00m \u001b[39mself\u001b[39m\u001b[39m.\u001b[39m_face_is_mapped:\n\u001b[1;32m    908\u001b[0m     \u001b[39mself\u001b[39m\u001b[39m.\u001b[39m_facecolors \u001b[39m=\u001b[39m \u001b[39mself\u001b[39m\u001b[39m.\u001b[39m_mapped_colors\n",
      "File \u001b[0;32m~/.local/lib/python3.8/site-packages/matplotlib/cm.py:455\u001b[0m, in \u001b[0;36mScalarMappable.to_rgba\u001b[0;34m(self, x, alpha, bytes, norm)\u001b[0m\n\u001b[1;32m    453\u001b[0m x \u001b[39m=\u001b[39m ma\u001b[39m.\u001b[39masarray(x)\n\u001b[1;32m    454\u001b[0m \u001b[39mif\u001b[39;00m norm:\n\u001b[0;32m--> 455\u001b[0m     x \u001b[39m=\u001b[39m \u001b[39mself\u001b[39;49m\u001b[39m.\u001b[39;49mnorm(x)\n\u001b[1;32m    456\u001b[0m rgba \u001b[39m=\u001b[39m \u001b[39mself\u001b[39m\u001b[39m.\u001b[39mcmap(x, alpha\u001b[39m=\u001b[39malpha, \u001b[39mbytes\u001b[39m\u001b[39m=\u001b[39m\u001b[39mbytes\u001b[39m)\n\u001b[1;32m    457\u001b[0m \u001b[39mreturn\u001b[39;00m rgba\n",
      "File \u001b[0;32m~/.local/lib/python3.8/site-packages/matplotlib/colors.py:1541\u001b[0m, in \u001b[0;36mmake_norm_from_scale.<locals>.Norm.__call__\u001b[0;34m(self, value, clip)\u001b[0m\n\u001b[1;32m   1539\u001b[0m t_vmin, t_vmax \u001b[39m=\u001b[39m \u001b[39mself\u001b[39m\u001b[39m.\u001b[39m_trf\u001b[39m.\u001b[39mtransform([\u001b[39mself\u001b[39m\u001b[39m.\u001b[39mvmin, \u001b[39mself\u001b[39m\u001b[39m.\u001b[39mvmax])\n\u001b[1;32m   1540\u001b[0m \u001b[39mif\u001b[39;00m \u001b[39mnot\u001b[39;00m np\u001b[39m.\u001b[39misfinite([t_vmin, t_vmax])\u001b[39m.\u001b[39mall():\n\u001b[0;32m-> 1541\u001b[0m     \u001b[39mraise\u001b[39;00m \u001b[39mValueError\u001b[39;00m(\u001b[39m\"\u001b[39m\u001b[39mInvalid vmin or vmax\u001b[39m\u001b[39m\"\u001b[39m)\n\u001b[1;32m   1542\u001b[0m t_value \u001b[39m-\u001b[39m\u001b[39m=\u001b[39m t_vmin\n\u001b[1;32m   1543\u001b[0m t_value \u001b[39m/\u001b[39m\u001b[39m=\u001b[39m (t_vmax \u001b[39m-\u001b[39m t_vmin)\n",
      "\u001b[0;31mValueError\u001b[0m: Invalid vmin or vmax"
     ]
    },
    {
     "data": {
      "text/plain": [
       "<Figure size 576x720 with 2 Axes>"
      ]
     },
     "metadata": {
      "needs_background": "light"
     },
     "output_type": "display_data"
    }
   ],
   "source": [
    "tlimit(['2003-10-28 00:00:00', '2003-10-28 23:59:00'])\n",
    "options('Emax', 'spec', 1)\n",
    "options('Emax', 'ylog', 1)\n",
    "options('Emax', 'zlog', 1)\n",
    "options('Emax', 'zrange', [0, 120])\n",
    "options('Emax', 'yrange', [1, 2e4])\n",
    "options('Emax', 'ztitle', '[mV/m/Hz^1/2]')\n",
    "tplot_options('title', 'MCA data')\n",
    "tplot(\"Emax\")"
   ]
  },
  {
   "cell_type": "code",
   "execution_count": null,
   "metadata": {},
   "outputs": [],
   "source": [
    "Pass = pytplot.get_data('akb_orb_Pass')\n",
    "start_pass_number = Pass.y[0]\n",
    "pass_start_time = Pass.times[0]\n",
    "for i in range(0, Pass.y.size):\n",
    "    if start_pass_number < Pass.y[i+1]:\n",
    "        pass_end_time = Pass.times[i]\n",
    "        pass_number_index = i\n",
    "        pass_start_time_string = pyspedas.time_string(pass_start_time, fmt = '%Y-%m-%d %H:%M:%S')\n",
    "        pass_end_time_string = pyspedas.time_string(pass_end_time, fmt = '%Y-%m-%d %H:%M:%S')\n",
    "        \n",
    "        trange = [pass_start_time_string, pass_end_time_string]\n",
    "        \n",
    "        tlimit(trange)\n",
    "        options('Emax_Amplitude', 'spec', 1)\n",
    "        options('Emax_Amplitude', 'ylog', 1)\n",
    "        options('Emax_Amplitude', 'zlog', 1)\n",
    "        options('Emax_Amplitude', 'zrange', [1e-5, 1])\n",
    "        options('Emax_Amplitude', 'yrange', [1, 2e4])\n",
    "        options('Emax_Amplitude', 'ztitle', '[mV/m/Hz^1/2]')\n",
    "        options('akb_orb_ALT', 'ylabel', 'ALT [km]')\n",
    "        options('akb_orb_MLT', 'ylabel', 'MLT [h]')\n",
    "        options('akb_orb_ILAT', 'ylabel', 'ILAT [deg]')\n",
    "        options('akb_orb_MLAT', 'ylabel', 'MLAT [deg]')\n",
    "        tplot_options('title', pass_start_time_string + '-' + pass_end_time_string + 'MCA data' )\n",
    "        tplot('Emax_Amplitude', var_label = ['akb_orb_ALT', 'akb_orb_MLT', 'akb_orb_ILAT', 'akb_orb_MLAT'], save_png = 'akb_'+ pass_start_time_string + '-' + pass_end_time_string + '_pass_number_test')"
   ]
  },
  {
   "cell_type": "code",
   "execution_count": null,
   "metadata": {},
   "outputs": [],
   "source": []
  }
 ],
 "metadata": {
  "kernelspec": {
   "display_name": "Python 3.8.10 64-bit",
   "language": "python",
   "name": "python3"
  },
  "language_info": {
   "codemirror_mode": {
    "name": "ipython",
    "version": 3
   },
   "file_extension": ".py",
   "mimetype": "text/x-python",
   "name": "python",
   "nbconvert_exporter": "python",
   "pygments_lexer": "ipython3",
   "version": "3.8.10"
  },
  "orig_nbformat": 4,
  "vscode": {
   "interpreter": {
    "hash": "916dbcbb3f70747c44a77c7bcd40155683ae19c65e1c03b4aa3499c5328201f1"
   }
  }
 },
 "nbformat": 4,
 "nbformat_minor": 2
}
