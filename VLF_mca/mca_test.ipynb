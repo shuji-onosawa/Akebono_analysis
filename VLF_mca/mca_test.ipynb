{
 "cells": [
  {
   "cell_type": "code",
   "execution_count": 10,
   "metadata": {},
   "outputs": [
    {
     "name": "stdout",
     "output_type": "stream",
     "text": [
      "['./Akebono_mca_data_test/ak_h1_mca_20140110_v02.cdf', './Akebono_mca_data_test/ak_h1_mca_20140111_v02.cdf'] ./Akebono_mca_data_test/ak_h1_mca_20140111_v02.cdf\n"
     ]
    }
   ],
   "source": [
    "from pyspedas.utilities.dailynames import dailynames\n",
    "from pyspedas.utilities.download import download\n",
    "from pyspedas.analysis.time_clip import time_clip as tclip\n",
    "from pyspedas import time_double\n",
    "from pytplot import cdf_to_tplot\n",
    "from pytplot import store_data\n",
    "import os\n",
    "import urllib.request\n",
    "import numpy as np\n",
    "\n",
    "trange = ['2014-01-10', '2014-01-12']\n",
    "\n",
    "remote_name_prefix = 'https://akebono-vlf.db.kanazawa-u.ac.jp/permalink.php?keyword='\n",
    "pathformat = 'https://akebono-vlf.db.kanazawa-u.ac.jp/permalink.php?keyword=ak_h1_mca_%Y%m%d_v02.cdf'\n",
    "\n",
    "remote_names = dailynames(file_format=pathformat, trange=trange)\n",
    "\n",
    "out_files = []\n",
    "\n",
    "pathname = './Akebono_mca_data_test/'\n",
    "\n",
    "\n",
    "try:\n",
    "    os.mkdir(pathname)\n",
    "except:\n",
    "    pass\n",
    "\n",
    "for remote_name in remote_names:                           \n",
    "    get_data = urllib.request.urlopen(remote_name).read()\n",
    "\n",
    "    save_name = pathname + remote_name \n",
    "    save_name = save_name.replace(remote_name_prefix, '')\n",
    "\n",
    "    with open(save_name, mode=\"wb\") as f:\n",
    "        f.write(get_data)\n",
    "        \n",
    "    out_files.append(save_name)\n",
    "\n",
    "out_files = sorted(out_files)\n",
    "\n",
    "print(out_files, save_name)\n",
    "tvars = cdf_to_tplot(out_files)\n",
    "\n"
   ]
  },
  {
   "cell_type": "code",
   "execution_count": 17,
   "metadata": {},
   "outputs": [
    {
     "name": "stderr",
     "output_type": "stream",
     "text": [
      "02-Jul-22 02:22:03: /usr/local/lib/python3.8/dist-packages/pytplot/MPLPlotter/tplot.py:236: UserWarning: Attempted to set non-positive bottom ylim on a log-scaled axis.\n",
      "Invalid limit will be ignored.\n",
      "  this_axis.set_ylim(yrange)\n",
      "\n"
     ]
    },
    {
     "data": {
      "image/png": "[encoded data removed]",
      "text/plain": [
       "<Figure size 576x720 with 1 Axes>"
      ]
     },
     "metadata": {
      "needs_background": "light"
     },
     "output_type": "display_data"
    }
   ],
   "source": [
    "import pytplot\n",
    "pytplot.tlimit(['2014-01-10 23:59:45', '2014-01-11 00:00:15'])\n",
    "pytplot.tplot('Emax')"
   ]
  },
  {
   "cell_type": "code",
   "execution_count": null,
   "metadata": {},
   "outputs": [],
   "source": []
  }
 ],
 "metadata": {
  "kernelspec": {
   "display_name": "Python 3.8.10 64-bit",
   "language": "python",
   "name": "python3"
  },
  "language_info": {
   "codemirror_mode": {
    "name": "ipython",
    "version": 3
   },
   "file_extension": ".py",
   "mimetype": "text/x-python",
   "name": "python",
   "nbconvert_exporter": "python",
   "pygments_lexer": "ipython3",
   "version": "3.8.10"
  },
  "orig_nbformat": 4,
  "vscode": {
   "interpreter": {
    "hash": "916dbcbb3f70747c44a77c7bcd40155683ae19c65e1c03b4aa3499c5328201f1"
   }
  }
 },
 "nbformat": 4,
 "nbformat_minor": 2
}
