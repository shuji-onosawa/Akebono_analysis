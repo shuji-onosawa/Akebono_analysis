{
 "cells": [
  {
   "cell_type": "code",
   "execution_count": 1,
   "metadata": {},
   "outputs": [],
   "source": [
    "import pyspedas\n",
    "import pytplot\n",
    "from pytplot import options\n",
    "from pytplot import tplot\n",
    "from pytplot import tlimit\n",
    "from pytplot import tplot_options\n",
    "from pytplot import get_data, store_data\n",
    "from load import mca, orb\n",
    "import numpy as np"
   ]
  },
  {
   "cell_type": "code",
   "execution_count": 29,
   "metadata": {},
   "outputs": [
    {
     "data": {
      "text/plain": [
       "(['Emax', 'Eave', 'Bmax', 'Bave', 'PostGap'], None)"
      ]
     },
     "execution_count": 29,
     "metadata": {},
     "output_type": "execute_result"
    }
   ],
   "source": [
    "trange = ['1991-07-11', '1991-07-14']\n",
    "mca(trange=trange), orb(trange=trange)\n"
   ]
  },
  {
   "cell_type": "code",
   "execution_count": 3,
   "metadata": {},
   "outputs": [
    {
     "data": {
      "text/plain": [
       "['Emax',\n",
       " 'Eave',\n",
       " 'Bmax',\n",
       " 'Bave',\n",
       " 'PostGap',\n",
       " 'akb_Pass',\n",
       " 'akb_ILAT',\n",
       " 'akb_MLAT',\n",
       " 'akb_MLT',\n",
       " 'akb_ALT']"
      ]
     },
     "execution_count": 3,
     "metadata": {},
     "output_type": "execute_result"
    }
   ],
   "source": [
    "pytplot.tplot_names(True)"
   ]
  },
  {
   "cell_type": "code",
   "execution_count": 30,
   "metadata": {},
   "outputs": [
    {
     "name": "stdout",
     "output_type": "stream",
     "text": [
      "0 : Emax\n",
      "1 : Eave\n",
      "2 : Bmax\n",
      "3 : Bave\n",
      "4 : PostGap\n",
      "5 : akb_Pass\n",
      "6 : akb_ILAT\n",
      "7 : akb_MLAT\n",
      "8 : akb_MLT\n",
      "9 : akb_ALT\n",
      "10 : Emax_Amp\n",
      "11 : Eave_Amp\n",
      "12 : Bmax_Amp\n",
      "13 : Bave_Amp\n",
      "14 : akb_ILAT-itrp\n",
      "15 : ILAT\n",
      "16 : MLAT\n"
     ]
    },
    {
     "data": {
      "text/plain": [
       "['Emax',\n",
       " 'Eave',\n",
       " 'Bmax',\n",
       " 'Bave',\n",
       " 'PostGap',\n",
       " 'akb_Pass',\n",
       " 'akb_ILAT',\n",
       " 'akb_MLAT',\n",
       " 'akb_MLT',\n",
       " 'akb_ALT',\n",
       " 'Emax_Amp',\n",
       " 'Eave_Amp',\n",
       " 'Bmax_Amp',\n",
       " 'Bave_Amp',\n",
       " 'akb_ILAT-itrp',\n",
       " 'ILAT',\n",
       " 'MLAT']"
      ]
     },
     "execution_count": 30,
     "metadata": {},
     "output_type": "execute_result"
    }
   ],
   "source": [
    "tplot_names = [\"Emax\", \"Eave\", \"Bmax\", \"Bave\"]\n",
    "for tplot_name in tplot_names:\n",
    "    tplot_variable = pytplot.get_data(tplot_name)\n",
    "    tplot_variable_0dB = 1e-6 #mV or pT\n",
    "    bandwidth = tplot_variable.v * 0.3\n",
    "    tplot_variable_Amplitude = (10**(tplot_variable.y/20)) * (tplot_variable_0dB**2) / bandwidth \n",
    "    store_data(tplot_name +'_Amp', data={'x': tplot_variable.times, 'y': tplot_variable_Amplitude, 'v': tplot_variable.v})\n",
    "\n",
    "pytplot.tplot_names()"
   ]
  },
  {
   "cell_type": "code",
   "execution_count": 39,
   "metadata": {},
   "outputs": [
    {
     "name": "stdout",
     "output_type": "stream",
     "text": [
      "tinterpol (linear) was applied to: ILAT\n",
      "tinterpol (linear) was applied to: MLAT\n"
     ]
    },
    {
     "data": {
      "text/plain": [
       "('1991-07-11 02:13:56', '1991-07-11 03:04:52')"
      ]
     },
     "execution_count": 39,
     "metadata": {},
     "output_type": "execute_result"
    }
   ],
   "source": [
    "pyspedas.tinterpol('akb_ILAT', interp_to='Emax_Amp', newname = 'ILAT')\n",
    "pyspedas.tinterpol('akb_MLAT', interp_to='Emax_Amp', newname = 'MLAT')\n",
    "Emax = get_data('Emax_Amp')\n",
    "time, Emax = Emax.times, Emax.y\n",
    "ILAT = get_data('ILAT')\n",
    "ILAT = ILAT.y\n",
    "MLAT = get_data('MLAT')\n",
    "MLAT = MLAT.y\n",
    "\n",
    "plus_index_tuple = np.where((MLAT>0) & (ILAT>65))\n",
    "minus_index_tuple = np.where((MLAT<0) & (ILAT>65))\n",
    "\n",
    "plus_index = plus_index_tuple[0]\n",
    "minus_index = minus_index_tuple[0]\n",
    "\n",
    "#make start_time list, end_time list\n",
    "plus_start_time_index = [plus_index[0]]\n",
    "plus_end_time_index = []\n",
    "for i in range(plus_index.size-1):\n",
    "    if plus_index[i+1] - plus_index[i] > 1:\n",
    "        plus_end_time_index.append(plus_index[i])\n",
    "        plus_start_time_index.append(plus_index[i+1])\n",
    "        \n",
    "plus_end_time_index.append(plus_index[-1])\n",
    "\n",
    "plus_start_time_index = np.array(plus_start_time_index)\n",
    "plus_end_time_index = np.array(plus_end_time_index)\n",
    "\n",
    "plus_start_time_list = pyspedas.time_string(time[plus_start_time_index], fmt='%Y-%m-%d %H:%M:%S')\n",
    "plus_end_time_list = pyspedas.time_string(time[plus_end_time_index], fmt='%Y-%m-%d %H:%M:%S')\n",
    "\n",
    "plus_start_time_list[0], plus_end_time_list[0]"
   ]
  },
  {
   "cell_type": "code",
   "execution_count": 42,
   "metadata": {},
   "outputs": [
    {
     "data": {
      "image/png": "[encoded data removed]",
      "text/plain": [
       "<Figure size 576x720 with 4 Axes>"
      ]
     },
     "metadata": {
      "needs_background": "light"
     },
     "output_type": "display_data"
    }
   ],
   "source": [
    "start_time = plus_start_time_list[0]\n",
    "end_time = plus_end_time_list[0]\n",
    "pytplot.tlimit([start_time,end_time])\n",
    "pytplot.tplot(['ILAT', 'MLAT', 'akb_MLT', 'akb_ALT'])"
   ]
  },
  {
   "cell_type": "code",
   "execution_count": null,
   "metadata": {},
   "outputs": [],
   "source": [
    "Pass = pytplot.get_data('akb_orb_Pass')\n",
    "start_pass_number = Pass.y[0]\n",
    "pass_start_time = Pass.times[0]\n",
    "for i in range(0, Pass.y.size):\n",
    "    if start_pass_number < Pass.y[i+1]:\n",
    "        pass_end_time = Pass.times[i]\n",
    "        pass_number_index = i\n",
    "        pass_start_time_string = pyspedas.time_string(pass_start_time, fmt = '%Y-%m-%d %H:%M:%S')\n",
    "        pass_end_time_string = pyspedas.time_string(pass_end_time, fmt = '%Y-%m-%d %H:%M:%S')\n",
    "        \n",
    "        trange = [pass_start_time_string, pass_end_time_string]\n",
    "        \n",
    "        tlimit(trange)\n",
    "        options('Emax_Amplitude', 'spec', 1)\n",
    "        options('Emax_Amplitude', 'ylog', 1)\n",
    "        options('Emax_Amplitude', 'zlog', 1)\n",
    "        options('Emax_Amplitude', 'zrange', [1e-5, 1])\n",
    "        options('Emax_Amplitude', 'yrange', [1, 2e4])\n",
    "        options('Emax_Amplitude', 'ztitle', '[mV/m/Hz^1/2]')\n",
    "        options('akb_orb_ALT', 'ylabel', 'ALT [km]')\n",
    "        options('akb_orb_MLT', 'ylabel', 'MLT [h]')\n",
    "        options('akb_orb_ILAT', 'ylabel', 'ILAT [deg]')\n",
    "        options('akb_orb_MLAT', 'ylabel', 'MLAT [deg]')\n",
    "        tplot_options('title', pass_start_time_string + '-' + pass_end_time_string + 'MCA data' )\n",
    "        tplot('Emax_Amplitude', var_label = ['akb_orb_ALT', 'akb_orb_MLT', 'akb_orb_ILAT', 'akb_orb_MLAT'], save_png = 'akb_'+ pass_start_time_string + '-' + pass_end_time_string + '_pass_number_test')"
   ]
  },
  {
   "cell_type": "code",
   "execution_count": null,
   "metadata": {},
   "outputs": [],
   "source": []
  }
 ],
 "metadata": {
  "kernelspec": {
   "display_name": "Python 3.8.10 64-bit",
   "language": "python",
   "name": "python3"
  },
  "language_info": {
   "codemirror_mode": {
    "name": "ipython",
    "version": 3
   },
   "file_extension": ".py",
   "mimetype": "text/x-python",
   "name": "python",
   "nbconvert_exporter": "python",
   "pygments_lexer": "ipython3",
   "version": "3.8.10"
  },
  "orig_nbformat": 4,
  "vscode": {
   "interpreter": {
    "hash": "916dbcbb3f70747c44a77c7bcd40155683ae19c65e1c03b4aa3499c5328201f1"
   }
  }
 },
 "nbformat": 4,
 "nbformat_minor": 2
}
